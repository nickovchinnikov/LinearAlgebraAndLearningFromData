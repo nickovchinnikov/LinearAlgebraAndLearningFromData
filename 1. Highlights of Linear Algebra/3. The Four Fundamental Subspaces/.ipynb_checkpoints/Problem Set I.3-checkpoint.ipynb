{
 "cells": [
  {
   "cell_type": "markdown",
   "id": "a39171fa",
   "metadata": {},
   "source": [
    "# Problem Set I.3"
   ]
  },
  {
   "cell_type": "markdown",
   "id": "0ac92557",
   "metadata": {},
   "source": [
    "## \\# 1"
   ]
  },
  {
   "cell_type": "markdown",
   "id": "6a8f6519",
   "metadata": {},
   "source": [
    "$Bx=0,AB=C \\implies ABx=Cx, A(Bx)=Cx, A \\cdot 0 = Cx, Cx = 0$ or $ABx=0$"
   ]
  },
  {
   "cell_type": "markdown",
   "id": "3cf2bd2e",
   "metadata": {},
   "source": [
    "## \\# 2"
   ]
  },
  {
   "cell_type": "markdown",
   "id": "b04c963d",
   "metadata": {},
   "source": [
    "Example of $rank(A^2) < rank(A)$"
   ]
  },
  {
   "cell_type": "markdown",
   "id": "651f4815",
   "metadata": {},
   "source": [
    "$$A=\\begin{bmatrix}\n",
    " 0 & 1 \\\\\n",
    " 0 & 0\n",
    "\\end{bmatrix},\n",
    "A^2=\\begin{bmatrix}\n",
    " 0 & 1 \\\\\n",
    " 0 & 0\n",
    "\\end{bmatrix}\n",
    "\\cdot\n",
    "\\begin{bmatrix}\n",
    " 0 & 1 \\\\\n",
    " 0 & 0\n",
    "\\end{bmatrix}\n",
    "=\\begin{bmatrix}\n",
    " 0 & 0 \\\\\n",
    " 0 & 0\n",
    "\\end{bmatrix}$$"
   ]
  },
  {
   "cell_type": "markdown",
   "id": "04ef1917",
   "metadata": {},
   "source": [
    "$rank(A^TA)=rank(A)$"
   ]
  },
  {
   "cell_type": "markdown",
   "id": "ef1a4fe3",
   "metadata": {},
   "source": [
    "$$A^TA=\\begin{bmatrix}\n",
    " 0 & 0 \\\\\n",
    " 1 & 0\n",
    "\\end{bmatrix}\n",
    "\\cdot\n",
    "\\begin{bmatrix}\n",
    " 0 & 1 \\\\\n",
    " 0 & 0\n",
    "\\end{bmatrix}\n",
    "=\\begin{bmatrix}\n",
    " 0 & 1 \\\\\n",
    " 0 & 0\n",
    "\\end{bmatrix}\n",
    "$$"
   ]
  },
  {
   "cell_type": "markdown",
   "id": "8867b17d",
   "metadata": {},
   "source": [
    "$rank(AA^T)=rank(A)$"
   ]
  },
  {
   "cell_type": "markdown",
   "id": "732fc18d",
   "metadata": {},
   "source": [
    "$$AA^T=\\begin{bmatrix}\n",
    " 0 & 1 \\\\\n",
    " 0 & 0\n",
    "\\end{bmatrix}\n",
    "\\cdot\n",
    "\\begin{bmatrix}\n",
    " 0 & 0 \\\\\n",
    " 1 & 0\n",
    "\\end{bmatrix}\n",
    "=\\begin{bmatrix}\n",
    " 1 & 0 \\\\\n",
    " 0 & 0\n",
    "\\end{bmatrix}\n",
    "$$"
   ]
  },
  {
   "cell_type": "markdown",
   "id": "b5b2f03a",
   "metadata": {},
   "source": [
    "## \\# 3"
   ]
  },
  {
   "cell_type": "markdown",
   "id": "82f6aaf3",
   "metadata": {},
   "source": [
    "$$\n",
    "C=\\begin{bmatrix}\n",
    " A \\\\\n",
    " B\n",
    "\\end{bmatrix}\n",
    "$$"
   ]
  },
  {
   "cell_type": "markdown",
   "id": "676e8fcc",
   "metadata": {},
   "source": [
    "$$Cx=0\n",
    "\\implies \n",
    "\\begin{bmatrix}\n",
    " A \\\\\n",
    " B\n",
    "\\end{bmatrix}x=0,\n",
    "\\begin{bmatrix}\n",
    " Ax \\\\\n",
    " Bx\n",
    "\\end{bmatrix}=0\n",
    "\\implies Ax=0,Bx=0\n",
    "$$"
   ]
  },
  {
   "cell_type": "markdown",
   "id": "5aecfd47",
   "metadata": {},
   "source": [
    "$N(C)=N(A) \\cap N(B)$"
   ]
  },
  {
   "cell_type": "markdown",
   "id": "6eb1e4c9",
   "metadata": {},
   "source": [
    "## \\# 4"
   ]
  },
  {
   "cell_type": "markdown",
   "id": "88d6db6e",
   "metadata": {},
   "source": [
    "$C(A)=C(A^T)$ and $N(A)=N(A^T)$"
   ]
  },
  {
   "cell_type": "markdown",
   "id": "6f989f6e",
   "metadata": {},
   "source": [
    "$Ax=A^Tx=0$ because $Ax=0$ and $A^Ty=0$ and $A^T=A \\implies x = y$"
   ]
  },
  {
   "cell_type": "markdown",
   "id": "717ce5d9",
   "metadata": {},
   "source": [
    "$$\\begin{bmatrix}\n",
    " u & v\n",
    "\\end{bmatrix}=\\begin{bmatrix}\n",
    " u & v\n",
    "\\end{bmatrix}^T,\n",
    "\\begin{bmatrix}\n",
    " u & v\n",
    "\\end{bmatrix}=\\begin{bmatrix}\n",
    " u^* \\\\\n",
    " v^*\n",
    "\\end{bmatrix}\n",
    "$$"
   ]
  },
  {
   "cell_type": "markdown",
   "id": "a71b5b66",
   "metadata": {},
   "source": [
    "I suppose than $A = A^T \\implies S = S^T$ is symmetric matrix"
   ]
  },
  {
   "cell_type": "markdown",
   "id": "686862ae",
   "metadata": {},
   "source": [
    "## \\# 5"
   ]
  },
  {
   "cell_type": "markdown",
   "id": "7582cd7c",
   "metadata": {},
   "source": [
    "1) $r = m = n$, $A_1x=b$ has 1 solution for every b\n",
    "\n",
    "$A_1$ is any full-rank matrix"
   ]
  },
  {
   "cell_type": "markdown",
   "id": "b1e31f92",
   "metadata": {},
   "source": [
    "2) $r = m < n$, $A_2x=b$ has 1 or $\\infty$ solutions\n",
    "\n",
    "$$A_2x=\n",
    "\\begin{bmatrix}\n",
    " 1 & 0\n",
    "\\end{bmatrix}\n",
    "\\cdot\n",
    "\\begin{bmatrix}\n",
    " x_1 \\\\\n",
    " x_2\n",
    "\\end{bmatrix}\n",
    "=b\n",
    "$$\n",
    "\n",
    "$A_2$ has an extra column"
   ]
  },
  {
   "cell_type": "markdown",
   "id": "d7188529",
   "metadata": {},
   "source": [
    "3) $r=n < m, A_3x=b$ has 0 or 1 solutions\n",
    "\n",
    "$A_3=A_2^T$"
   ]
  },
  {
   "cell_type": "markdown",
   "id": "11fbe915",
   "metadata": {},
   "source": [
    "4) $r < m, r < n; A_4x = b$ has 0 or $\\infty$ solutions\n",
    "\n",
    "$$\n",
    "A_4=\n",
    "\\begin{bmatrix}\n",
    " 1 & 0 \\\\\n",
    " 0 & 0\n",
    "\\end{bmatrix}\n",
    "$$\n",
    "\n",
    "or dependent columns\n",
    "\n",
    "$$\n",
    "\\begin{bmatrix}\n",
    " 1 & 2 \\\\\n",
    " 1 & 2\n",
    "\\end{bmatrix}\n",
    "$$\n",
    "\n",
    "$$\n",
    "\\begin{bmatrix}\n",
    " 1 & 2 & 3 \\\\\n",
    " 1 & 2 & 3 \\\\\n",
    " 1 & 2 & 3\n",
    "\\end{bmatrix}\n",
    "$$\n",
    "\n",
    "And etc."
   ]
  },
  {
   "cell_type": "markdown",
   "id": "8b0c1c32",
   "metadata": {},
   "source": [
    "## \\# 6"
   ]
  },
  {
   "cell_type": "markdown",
   "id": "10a6f67f",
   "metadata": {},
   "source": [
    "$Ax=0, A^TAx=A^T(Ax)=A^T0=0$"
   ]
  },
  {
   "cell_type": "markdown",
   "id": "31f90c9c",
   "metadata": {},
   "source": [
    "$N(A) \\subset N(A^TA)$"
   ]
  },
  {
   "cell_type": "markdown",
   "id": "f96e835c",
   "metadata": {},
   "source": [
    "$A^TAx=0$, then $x^TA^TAx=x^T0 \\implies (Ax)^T(Ax)=0 \\implies ||Ax||^2=0$"
   ]
  },
  {
   "cell_type": "markdown",
   "id": "1e4ece37",
   "metadata": {},
   "source": [
    "$N(A^TA)=N(A)$"
   ]
  },
  {
   "cell_type": "markdown",
   "id": "bb61a888",
   "metadata": {},
   "source": [
    "## \\# 7"
   ]
  },
  {
   "cell_type": "markdown",
   "id": "87175470",
   "metadata": {},
   "source": [
    "$$A=\\begin{bmatrix}\n",
    " 0 & 1 \\\\\n",
    " 0 & 0\n",
    "\\end{bmatrix};\n",
    "A^2=\\begin{bmatrix}\n",
    " 0 & 0 \\\\\n",
    " 0 & 0\n",
    "\\end{bmatrix};\n",
    "$$"
   ]
  }
 ],
 "metadata": {
  "kernelspec": {
   "display_name": "Python 3",
   "language": "python",
   "name": "python3"
  },
  "language_info": {
   "codemirror_mode": {
    "name": "ipython",
    "version": 3
   },
   "file_extension": ".py",
   "mimetype": "text/x-python",
   "name": "python",
   "nbconvert_exporter": "python",
   "pygments_lexer": "ipython3",
   "version": "3.8.8"
  }
 },
 "nbformat": 4,
 "nbformat_minor": 5
}
