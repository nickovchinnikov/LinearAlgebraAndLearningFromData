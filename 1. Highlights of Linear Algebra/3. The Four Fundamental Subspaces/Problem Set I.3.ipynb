{
 "cells": [
  {
   "cell_type": "markdown",
   "id": "fcfd39eb",
   "metadata": {},
   "source": [
    "# Problem Set I.3"
   ]
  },
  {
   "cell_type": "code",
   "execution_count": 72,
   "id": "d880068d",
   "metadata": {},
   "outputs": [],
   "source": [
    "import matplotlib as mpl\n",
    "import matplotlib.pyplot as plt\n",
    "import numpy as np\n",
    "import sympy\n",
    "import networkx as nx"
   ]
  },
  {
   "cell_type": "markdown",
   "id": "32bb3dc2",
   "metadata": {},
   "source": [
    "## \\# 1"
   ]
  },
  {
   "cell_type": "markdown",
   "id": "d14ca1d0",
   "metadata": {},
   "source": [
    "$Bx=0,AB=C \\implies ABx=Cx, A(Bx)=Cx, A \\cdot 0 = Cx, Cx = 0$ or $ABx=0$"
   ]
  },
  {
   "cell_type": "markdown",
   "id": "f8182eb5",
   "metadata": {},
   "source": [
    "## \\# 2"
   ]
  },
  {
   "cell_type": "markdown",
   "id": "7b5f30fd",
   "metadata": {},
   "source": [
    "Example of $rank(A^2) < rank(A)$"
   ]
  },
  {
   "cell_type": "markdown",
   "id": "73fcc35a",
   "metadata": {},
   "source": [
    "$$A=\\begin{bmatrix}\n",
    " 0 & 1 \\\\\n",
    " 0 & 0\n",
    "\\end{bmatrix},\n",
    "A^2=\\begin{bmatrix}\n",
    " 0 & 1 \\\\\n",
    " 0 & 0\n",
    "\\end{bmatrix}\n",
    "\\cdot\n",
    "\\begin{bmatrix}\n",
    " 0 & 1 \\\\\n",
    " 0 & 0\n",
    "\\end{bmatrix}\n",
    "=\\begin{bmatrix}\n",
    " 0 & 0 \\\\\n",
    " 0 & 0\n",
    "\\end{bmatrix}$$"
   ]
  },
  {
   "cell_type": "markdown",
   "id": "3d225073",
   "metadata": {},
   "source": [
    "$rank(A^TA)=rank(A)$"
   ]
  },
  {
   "cell_type": "markdown",
   "id": "928c8ee3",
   "metadata": {},
   "source": [
    "$$A^TA=\\begin{bmatrix}\n",
    " 0 & 0 \\\\\n",
    " 1 & 0\n",
    "\\end{bmatrix}\n",
    "\\cdot\n",
    "\\begin{bmatrix}\n",
    " 0 & 1 \\\\\n",
    " 0 & 0\n",
    "\\end{bmatrix}\n",
    "=\\begin{bmatrix}\n",
    " 0 & 1 \\\\\n",
    " 0 & 0\n",
    "\\end{bmatrix}\n",
    "$$"
   ]
  },
  {
   "cell_type": "markdown",
   "id": "6447bc87",
   "metadata": {},
   "source": [
    "$rank(AA^T)=rank(A)$"
   ]
  },
  {
   "cell_type": "markdown",
   "id": "47dfbdf6",
   "metadata": {},
   "source": [
    "$$AA^T=\\begin{bmatrix}\n",
    " 0 & 1 \\\\\n",
    " 0 & 0\n",
    "\\end{bmatrix}\n",
    "\\cdot\n",
    "\\begin{bmatrix}\n",
    " 0 & 0 \\\\\n",
    " 1 & 0\n",
    "\\end{bmatrix}\n",
    "=\\begin{bmatrix}\n",
    " 1 & 0 \\\\\n",
    " 0 & 0\n",
    "\\end{bmatrix}\n",
    "$$"
   ]
  },
  {
   "cell_type": "markdown",
   "id": "d51e4edf",
   "metadata": {},
   "source": [
    "## \\# 3"
   ]
  },
  {
   "cell_type": "markdown",
   "id": "b862f3dc",
   "metadata": {},
   "source": [
    "$$\n",
    "C=\\begin{bmatrix}\n",
    " A \\\\\n",
    " B\n",
    "\\end{bmatrix}\n",
    "$$"
   ]
  },
  {
   "cell_type": "markdown",
   "id": "63a6493e",
   "metadata": {},
   "source": [
    "$$Cx=0\n",
    "\\implies \n",
    "\\begin{bmatrix}\n",
    " A \\\\\n",
    " B\n",
    "\\end{bmatrix}x=0,\n",
    "\\begin{bmatrix}\n",
    " Ax \\\\\n",
    " Bx\n",
    "\\end{bmatrix}=0\n",
    "\\implies Ax=0,Bx=0\n",
    "$$"
   ]
  },
  {
   "cell_type": "markdown",
   "id": "708dc3c6",
   "metadata": {},
   "source": [
    "$N(C)=N(A) \\cap N(B)$"
   ]
  },
  {
   "cell_type": "markdown",
   "id": "499c8cfd",
   "metadata": {},
   "source": [
    "## \\# 4"
   ]
  },
  {
   "cell_type": "markdown",
   "id": "317716dc",
   "metadata": {},
   "source": [
    "$C(A)=C(A^T)$ and $N(A)=N(A^T)$"
   ]
  },
  {
   "cell_type": "markdown",
   "id": "f117fc39",
   "metadata": {},
   "source": [
    "$Ax=A^Tx=0$ because $Ax=0$ and $A^Ty=0$ and $A^T=A \\implies x = y$"
   ]
  },
  {
   "cell_type": "markdown",
   "id": "7f2f2524",
   "metadata": {},
   "source": [
    "$$\\begin{bmatrix}\n",
    " u & v\n",
    "\\end{bmatrix}=\\begin{bmatrix}\n",
    " u & v\n",
    "\\end{bmatrix}^T,\n",
    "\\begin{bmatrix}\n",
    " u & v\n",
    "\\end{bmatrix}=\\begin{bmatrix}\n",
    " u^* \\\\\n",
    " v^*\n",
    "\\end{bmatrix}\n",
    "$$"
   ]
  },
  {
   "cell_type": "markdown",
   "id": "b07e87e4",
   "metadata": {},
   "source": [
    "I suppose than $A = A^T \\implies S = S^T$ is symmetric matrix"
   ]
  },
  {
   "cell_type": "markdown",
   "id": "88588913",
   "metadata": {},
   "source": [
    "## \\# 5"
   ]
  },
  {
   "cell_type": "markdown",
   "id": "25ad1976",
   "metadata": {},
   "source": [
    "1) $r = m = n$, $A_1x=b$ has 1 solution for every b\n",
    "\n",
    "$A_1$ is any full-rank matrix"
   ]
  },
  {
   "cell_type": "markdown",
   "id": "8fdd616b",
   "metadata": {},
   "source": [
    "2) $r = m < n$, $A_2x=b$ has 1 or $\\infty$ solutions\n",
    "\n",
    "$$A_2x=\n",
    "\\begin{bmatrix}\n",
    " 1 & 0\n",
    "\\end{bmatrix}\n",
    "\\cdot\n",
    "\\begin{bmatrix}\n",
    " x_1 \\\\\n",
    " x_2\n",
    "\\end{bmatrix}\n",
    "=b\n",
    "$$\n",
    "\n",
    "$A_2$ has an extra column"
   ]
  },
  {
   "cell_type": "markdown",
   "id": "4bf5cfa6",
   "metadata": {},
   "source": [
    "3) $r=n < m, A_3x=b$ has 0 or 1 solutions\n",
    "\n",
    "$A_3=A_2^T$"
   ]
  },
  {
   "cell_type": "markdown",
   "id": "47705a3a",
   "metadata": {},
   "source": [
    "4) $r < m, r < n; A_4x = b$ has 0 or $\\infty$ solutions\n",
    "\n",
    "$$\n",
    "A_4=\n",
    "\\begin{bmatrix}\n",
    " 1 & 0 \\\\\n",
    " 0 & 0\n",
    "\\end{bmatrix}\n",
    "$$\n",
    "\n",
    "or dependent columns\n",
    "\n",
    "$$\n",
    "\\begin{bmatrix}\n",
    " 1 & 2 \\\\\n",
    " 1 & 2\n",
    "\\end{bmatrix}\n",
    "$$\n",
    "\n",
    "$$\n",
    "\\begin{bmatrix}\n",
    " 1 & 2 & 3 \\\\\n",
    " 1 & 2 & 3 \\\\\n",
    " 1 & 2 & 3\n",
    "\\end{bmatrix}\n",
    "$$\n",
    "\n",
    "And etc."
   ]
  },
  {
   "cell_type": "markdown",
   "id": "f5ddd428",
   "metadata": {},
   "source": [
    "## \\# 6"
   ]
  },
  {
   "cell_type": "markdown",
   "id": "dcf62f50",
   "metadata": {},
   "source": [
    "$Ax=0, A^TAx=A^T(Ax)=A^T0=0$"
   ]
  },
  {
   "cell_type": "markdown",
   "id": "f7f2d26d",
   "metadata": {},
   "source": [
    "$N(A) \\subset N(A^TA)$"
   ]
  },
  {
   "cell_type": "markdown",
   "id": "be431583",
   "metadata": {},
   "source": [
    "$A^TAx=0$, then $x^TA^TAx=x^T0 \\implies (Ax)^T(Ax)=0 \\implies ||Ax||^2=0$"
   ]
  },
  {
   "cell_type": "markdown",
   "id": "540a0bff",
   "metadata": {},
   "source": [
    "$N(A^TA)=N(A)$"
   ]
  },
  {
   "cell_type": "markdown",
   "id": "bb56f35b",
   "metadata": {},
   "source": [
    "## \\# 7"
   ]
  },
  {
   "cell_type": "markdown",
   "id": "fd9444f5",
   "metadata": {},
   "source": [
    "$$A=\\begin{bmatrix}\n",
    " 0 & 1 \\\\\n",
    " 0 & 0\n",
    "\\end{bmatrix};\n",
    "A^2=\\begin{bmatrix}\n",
    " 0 & 0 \\\\\n",
    " 0 & 0\n",
    "\\end{bmatrix}\n",
    "$$\n",
    "\n",
    "$A$ and $A^2$ have different $N(A)$"
   ]
  },
  {
   "cell_type": "markdown",
   "id": "b5a2b783",
   "metadata": {},
   "source": [
    "## \\# 8"
   ]
  },
  {
   "cell_type": "markdown",
   "id": "0df08dfb",
   "metadata": {},
   "source": [
    "$$A=\\begin{bmatrix}\n",
    " 0 & 1 \\\\\n",
    " 0 & 0\n",
    "\\end{bmatrix}\n",
    "$$\n",
    "\n",
    "$C(A)=N(A)=\\begin{bmatrix}\n",
    " x_1 \\\\\n",
    " 0\n",
    "\\end{bmatrix};$\n",
    "\n",
    "But $C(A) \\neq N(A^T)$ because those two subspaces are orthogonal"
   ]
  },
  {
   "cell_type": "markdown",
   "id": "88b943aa",
   "metadata": {},
   "source": [
    "## \\# 9"
   ]
  },
  {
   "cell_type": "code",
   "execution_count": 101,
   "id": "234e5b71",
   "metadata": {},
   "outputs": [
    {
     "data": {
      "image/png": "[encoded data removed]",
      "text/plain": [
       "<Figure size 432x288 with 1 Axes>"
      ]
     },
     "metadata": {},
     "output_type": "display_data"
    }
   ],
   "source": [
    "g = nx.DiGraph()\n",
    "g.add_nodes_from([1,2,3,4,5])\n",
    "g.add_edge(1,2)\n",
    "g.add_edge(1,3)\n",
    "g.add_edge(1,4)\n",
    "g.add_edge(2,5)\n",
    "g.add_edge(2,3)\n",
    "g.add_edge(3,4)\n",
    "g.add_edge(3,5)\n",
    "g.add_edge(4,5)\n",
    "\n",
    "pos = { 1: (0, 20), 2: (20, 20), 3: (10, 10), 4: (0, 0), 5: (20, 0)}\n",
    "\n",
    "nx.draw_networkx(g, pos=pos, with_labels=True)\n",
    "\n",
    "plt.show()"
   ]
  },
  {
   "cell_type": "markdown",
   "id": "780e85e6",
   "metadata": {},
   "source": [
    "$$A=\n",
    "\\begin{bmatrix}\n",
    " -1 &  1 &  0 &  0 & 0 \\\\\n",
    " -1 &  0 &  1 &  0 & 0 \\\\\n",
    " -1 &  0 &  0 &  1 & 0 \\\\\n",
    "  0 & -1 &  1 &  0 & 0 \\\\\n",
    "  0 & -1 &  0 &  0 & 1 \\\\\n",
    "  0 &  0 & -1 &  1 & 0 \\\\\n",
    "  0 &  0 & -1 &  0 & 1 \\\\\n",
    "  0 &  0 &  0 & -1 & 1\n",
    "\\end{bmatrix}\n",
    "$$"
   ]
  },
  {
   "cell_type": "code",
   "execution_count": 102,
   "id": "883ca059",
   "metadata": {},
   "outputs": [
    {
     "data": {
      "text/latex": [
       "$\\displaystyle \\left[\\begin{matrix}-1 & 1 & 0 & 0 & 0\\\\-1 & 0 & 1 & 0 & 0\\\\-1 & 0 & 0 & 1 & 0\\\\0 & -1 & 1 & 0 & 0\\\\0 & -1 & 0 & 0 & 1\\\\0 & 0 & -1 & 1 & 0\\\\0 & 0 & -1 & 0 & 1\\\\0 & 0 & 0 & -1 & 1\\end{matrix}\\right]$"
      ],
      "text/plain": [
       "Matrix([\n",
       "[-1,  1,  0,  0, 0],\n",
       "[-1,  0,  1,  0, 0],\n",
       "[-1,  0,  0,  1, 0],\n",
       "[ 0, -1,  1,  0, 0],\n",
       "[ 0, -1,  0,  0, 1],\n",
       "[ 0,  0, -1,  1, 0],\n",
       "[ 0,  0, -1,  0, 1],\n",
       "[ 0,  0,  0, -1, 1]])"
      ]
     },
     "execution_count": 102,
     "metadata": {},
     "output_type": "execute_result"
    }
   ],
   "source": [
    "A = sympy.Matrix([\n",
    "    [-1,  1,  0,  0, 0],\n",
    "    [-1,  0,  1,  0, 0],\n",
    "    [-1,  0,  0,  1, 0],\n",
    "    [ 0, -1,  1,  0, 0],\n",
    "    [ 0, -1,  0,  0, 1],\n",
    "    [ 0,  0, -1,  1, 0],\n",
    "    [ 0,  0, -1,  0, 1],\n",
    "    [ 0,  0,  0, -1, 1],\n",
    "])\n",
    "A"
   ]
  },
  {
   "cell_type": "code",
   "execution_count": 103,
   "id": "d61d6016",
   "metadata": {},
   "outputs": [
    {
     "data": {
      "text/plain": [
       "[Matrix([\n",
       " [1],\n",
       " [1],\n",
       " [1],\n",
       " [1],\n",
       " [1]])]"
      ]
     },
     "execution_count": 103,
     "metadata": {},
     "output_type": "execute_result"
    }
   ],
   "source": [
    "A.nullspace()"
   ]
  },
  {
   "cell_type": "code",
   "execution_count": 104,
   "id": "98c9805b",
   "metadata": {},
   "outputs": [
    {
     "data": {
      "text/plain": [
       "[{x_1: x_5, x_2: x_5, x_3: x_5, x_4: x_5}]"
      ]
     },
     "execution_count": 104,
     "metadata": {},
     "output_type": "execute_result"
    }
   ],
   "source": [
    "x_1, x_2, x_3, x_4, x_5 = sympy.symbols(\"x_1, x_2, x_3, x_4, x_5\")\n",
    "\n",
    "eq1 = -x_1 + x_2\n",
    "eq2 = -x_1 + x_3\n",
    "eq3 = -x_1 + x_4\n",
    "eq4 = -x_2 + x_3\n",
    "eq5 = -x_2 + x_5\n",
    "eq6 = -x_3 + x_4\n",
    "eq7 = -x_3 + x_5\n",
    "eq8 = -x_4 + x_5\n",
    "\n",
    "sympy.solve([eq1, eq2, eq3, eq4, eq5, eq6, eq7, eq8], [x_1, x_2, x_3, x_4, x_5], dict=True)"
   ]
  },
  {
   "cell_type": "markdown",
   "id": "2598d31f",
   "metadata": {},
   "source": [
    "$x_1=x_2=x_3=x_4=x_5$"
   ]
  },
  {
   "cell_type": "code",
   "execution_count": 105,
   "id": "0794357f",
   "metadata": {},
   "outputs": [
    {
     "data": {
      "text/latex": [
       "$\\displaystyle \\left[\\begin{matrix}0\\\\0\\\\0\\\\0\\\\0\\\\0\\\\0\\\\0\\end{matrix}\\right]$"
      ],
      "text/plain": [
       "Matrix([\n",
       "[0],\n",
       "[0],\n",
       "[0],\n",
       "[0],\n",
       "[0],\n",
       "[0],\n",
       "[0],\n",
       "[0]])"
      ]
     },
     "execution_count": 105,
     "metadata": {},
     "output_type": "execute_result"
    }
   ],
   "source": [
    "c = sympy.Symbol(\"c\")\n",
    "\n",
    "x = sympy.Matrix([c, c, c, c, c])\n",
    "\n",
    "A*x"
   ]
  },
  {
   "cell_type": "markdown",
   "id": "70e23252",
   "metadata": {},
   "source": [
    "$rank(A)=n-1=4, N(A^T)=m-r=8-4=4$ also means 4 loops in the graph"
   ]
  },
  {
   "cell_type": "code",
   "execution_count": 114,
   "id": "c24a05b0",
   "metadata": {},
   "outputs": [
    {
     "data": {
      "text/plain": [
       "[Matrix([\n",
       " [ 1],\n",
       " [-1],\n",
       " [ 0],\n",
       " [ 1],\n",
       " [ 0],\n",
       " [ 0],\n",
       " [ 0],\n",
       " [ 0]]),\n",
       " Matrix([\n",
       " [ 0],\n",
       " [ 1],\n",
       " [-1],\n",
       " [ 0],\n",
       " [ 0],\n",
       " [ 1],\n",
       " [ 0],\n",
       " [ 0]]),\n",
       " Matrix([\n",
       " [-1],\n",
       " [ 1],\n",
       " [ 0],\n",
       " [ 0],\n",
       " [-1],\n",
       " [ 0],\n",
       " [ 1],\n",
       " [ 0]]),\n",
       " Matrix([\n",
       " [-1],\n",
       " [ 0],\n",
       " [ 1],\n",
       " [ 0],\n",
       " [-1],\n",
       " [ 0],\n",
       " [ 0],\n",
       " [ 1]])]"
      ]
     },
     "execution_count": 114,
     "metadata": {},
     "output_type": "execute_result"
    }
   ],
   "source": [
    "A.T.nullspace()"
   ]
  },
  {
   "cell_type": "markdown",
   "id": "f1b63a72",
   "metadata": {},
   "source": [
    "Loop 1:"
   ]
  },
  {
   "cell_type": "code",
   "execution_count": 106,
   "id": "4e498a36",
   "metadata": {},
   "outputs": [
    {
     "data": {
      "text/latex": [
       "$\\displaystyle \\left[\\begin{matrix}1\\\\0\\\\-1\\\\0\\\\1\\\\0\\\\0\\\\-1\\end{matrix}\\right]$"
      ],
      "text/plain": [
       "Matrix([\n",
       "[ 1],\n",
       "[ 0],\n",
       "[-1],\n",
       "[ 0],\n",
       "[ 1],\n",
       "[ 0],\n",
       "[ 0],\n",
       "[-1]])"
      ]
     },
     "execution_count": 106,
     "metadata": {},
     "output_type": "execute_result"
    }
   ],
   "source": [
    "y_1 = sympy.Matrix([1, 0, -1, 0, 1, 0, 0, -1])\n",
    "\n",
    "y_1"
   ]
  },
  {
   "cell_type": "code",
   "execution_count": 107,
   "id": "70802e58",
   "metadata": {},
   "outputs": [
    {
     "data": {
      "text/latex": [
       "$\\displaystyle \\left[\\begin{matrix}0\\\\0\\\\0\\\\0\\\\0\\end{matrix}\\right]$"
      ],
      "text/plain": [
       "Matrix([\n",
       "[0],\n",
       "[0],\n",
       "[0],\n",
       "[0],\n",
       "[0]])"
      ]
     },
     "execution_count": 107,
     "metadata": {},
     "output_type": "execute_result"
    }
   ],
   "source": [
    "A.T*y_1"
   ]
  },
  {
   "cell_type": "markdown",
   "id": "eb06f4bc",
   "metadata": {},
   "source": [
    "Loop 2:"
   ]
  },
  {
   "cell_type": "code",
   "execution_count": 108,
   "id": "400cb7a8",
   "metadata": {},
   "outputs": [
    {
     "data": {
      "text/latex": [
       "$\\displaystyle \\left[\\begin{matrix}1\\\\-1\\\\0\\\\0\\\\1\\\\0\\\\-1\\\\0\\end{matrix}\\right]$"
      ],
      "text/plain": [
       "Matrix([\n",
       "[ 1],\n",
       "[-1],\n",
       "[ 0],\n",
       "[ 0],\n",
       "[ 1],\n",
       "[ 0],\n",
       "[-1],\n",
       "[ 0]])"
      ]
     },
     "execution_count": 108,
     "metadata": {},
     "output_type": "execute_result"
    }
   ],
   "source": [
    "y_2 = sympy.Matrix([1, -1, 0, 0, 1, 0, -1, 0])\n",
    "\n",
    "y_2"
   ]
  },
  {
   "cell_type": "code",
   "execution_count": 109,
   "id": "e141165c",
   "metadata": {},
   "outputs": [
    {
     "data": {
      "text/latex": [
       "$\\displaystyle \\left[\\begin{matrix}0\\\\0\\\\0\\\\0\\\\0\\end{matrix}\\right]$"
      ],
      "text/plain": [
       "Matrix([\n",
       "[0],\n",
       "[0],\n",
       "[0],\n",
       "[0],\n",
       "[0]])"
      ]
     },
     "execution_count": 109,
     "metadata": {},
     "output_type": "execute_result"
    }
   ],
   "source": [
    "A.T*y_2"
   ]
  },
  {
   "cell_type": "markdown",
   "id": "c6964d23",
   "metadata": {},
   "source": [
    "Loop 3:"
   ]
  },
  {
   "cell_type": "code",
   "execution_count": 110,
   "id": "6f9b9666",
   "metadata": {},
   "outputs": [
    {
     "data": {
      "text/latex": [
       "$\\displaystyle \\left[\\begin{matrix}1\\\\0\\\\-1\\\\1\\\\0\\\\1\\\\0\\\\0\\end{matrix}\\right]$"
      ],
      "text/plain": [
       "Matrix([\n",
       "[ 1],\n",
       "[ 0],\n",
       "[-1],\n",
       "[ 1],\n",
       "[ 0],\n",
       "[ 1],\n",
       "[ 0],\n",
       "[ 0]])"
      ]
     },
     "execution_count": 110,
     "metadata": {},
     "output_type": "execute_result"
    }
   ],
   "source": [
    "y_3 = sympy.Matrix([1, 0, -1, 1, 0, 1, 0, 0])\n",
    "\n",
    "y_3"
   ]
  },
  {
   "cell_type": "code",
   "execution_count": 111,
   "id": "fb2bbc5c",
   "metadata": {},
   "outputs": [
    {
     "data": {
      "text/latex": [
       "$\\displaystyle \\left[\\begin{matrix}0\\\\0\\\\0\\\\0\\\\0\\end{matrix}\\right]$"
      ],
      "text/plain": [
       "Matrix([\n",
       "[0],\n",
       "[0],\n",
       "[0],\n",
       "[0],\n",
       "[0]])"
      ]
     },
     "execution_count": 111,
     "metadata": {},
     "output_type": "execute_result"
    }
   ],
   "source": [
    "A.T*y_3"
   ]
  },
  {
   "cell_type": "markdown",
   "id": "89714d21",
   "metadata": {},
   "source": [
    "Loop 4:"
   ]
  },
  {
   "cell_type": "code",
   "execution_count": 112,
   "id": "354d1e2a",
   "metadata": {},
   "outputs": [
    {
     "data": {
      "text/latex": [
       "$\\displaystyle \\left[\\begin{matrix}1\\\\-1\\\\0\\\\1\\\\0\\\\0\\\\0\\\\0\\end{matrix}\\right]$"
      ],
      "text/plain": [
       "Matrix([\n",
       "[ 1],\n",
       "[-1],\n",
       "[ 0],\n",
       "[ 1],\n",
       "[ 0],\n",
       "[ 0],\n",
       "[ 0],\n",
       "[ 0]])"
      ]
     },
     "execution_count": 112,
     "metadata": {},
     "output_type": "execute_result"
    }
   ],
   "source": [
    "y_4 = sympy.Matrix([1, -1, 0, 1, 0, 0, 0, 0])\n",
    "\n",
    "y_4"
   ]
  },
  {
   "cell_type": "code",
   "execution_count": 113,
   "id": "ba3c5f83",
   "metadata": {},
   "outputs": [
    {
     "data": {
      "text/latex": [
       "$\\displaystyle \\left[\\begin{matrix}0\\\\0\\\\0\\\\0\\\\0\\end{matrix}\\right]$"
      ],
      "text/plain": [
       "Matrix([\n",
       "[0],\n",
       "[0],\n",
       "[0],\n",
       "[0],\n",
       "[0]])"
      ]
     },
     "execution_count": 113,
     "metadata": {},
     "output_type": "execute_result"
    }
   ],
   "source": [
    "A.T*y_4"
   ]
  },
  {
   "cell_type": "markdown",
   "id": "c8e3617d",
   "metadata": {},
   "source": [
    "## \\# 10"
   ]
  },
  {
   "cell_type": "markdown",
   "id": "502be7d0",
   "metadata": {},
   "source": [
    "If $N(A)=x=\\begin{bmatrix}\n",
    " 0      \\\\\n",
    " 0      \\\\\n",
    " \\vdots \\\\\n",
    " 0\n",
    "\\end{bmatrix}$, then what are the nullspace of $B=\\begin{bmatrix}\n",
    " A & A & A\n",
    "\\end{bmatrix}$"
   ]
  },
  {
   "cell_type": "markdown",
   "id": "51fcdf50",
   "metadata": {},
   "source": [
    "$Ax=0;\n",
    "B\\cdot\n",
    "\\begin{bmatrix}\n",
    " x \\\\\n",
    " x \\\\\n",
    " x\n",
    "\\end{bmatrix}\n",
    "=\\begin{bmatrix}\n",
    " A & A & A\n",
    "\\end{bmatrix}\n",
    "\\cdot\n",
    "\\begin{bmatrix}\n",
    " x \\\\\n",
    " x \\\\\n",
    " x\n",
    "\\end{bmatrix}=0$"
   ]
  },
  {
   "cell_type": "markdown",
   "id": "b8009554",
   "metadata": {},
   "source": [
    "$N(B)=\\begin{bmatrix}\n",
    " x \\\\\n",
    " x \\\\\n",
    " x\n",
    "\\end{bmatrix}$"
   ]
  },
  {
   "cell_type": "markdown",
   "id": "f6e2dfb8",
   "metadata": {},
   "source": [
    "## \\# 11"
   ]
  },
  {
   "cell_type": "markdown",
   "id": "8acccd0b",
   "metadata": {},
   "source": [
    "$dim(S)=2$ and $dim(T)=7$ of $R^{10}$"
   ]
  },
  {
   "cell_type": "markdown",
   "id": "02a6c53e",
   "metadata": {},
   "source": [
    "1) $dim(S \\bigcap T) \\leq dim(S) \\leq 2$"
   ]
  },
  {
   "cell_type": "markdown",
   "id": "96b6bf52",
   "metadata": {},
   "source": [
    "2) $dim(S+T) \\leq dim(T) + dim(S)$\n",
    "\n",
    "Or\n",
    "\n",
    "$7 \\leq dim(S+T) \\leq 9$"
   ]
  },
  {
   "cell_type": "markdown",
   "id": "aedf5f29",
   "metadata": {},
   "source": [
    "3) $S^{\\perp}=dim(R^{10})-dim(S^{\\perp})=10-8=2$"
   ]
  },
  {
   "cell_type": "markdown",
   "id": "3301854d",
   "metadata": {},
   "source": []
  }
 ],
 "metadata": {
  "kernelspec": {
   "display_name": "Python 3",
   "language": "python",
   "name": "python3"
  },
  "language_info": {
   "codemirror_mode": {
    "name": "ipython",
    "version": 3
   },
   "file_extension": ".py",
   "mimetype": "text/x-python",
   "name": "python",
   "nbconvert_exporter": "python",
   "pygments_lexer": "ipython3",
   "version": "3.8.8"
  }
 },
 "nbformat": 4,
 "nbformat_minor": 5
}
