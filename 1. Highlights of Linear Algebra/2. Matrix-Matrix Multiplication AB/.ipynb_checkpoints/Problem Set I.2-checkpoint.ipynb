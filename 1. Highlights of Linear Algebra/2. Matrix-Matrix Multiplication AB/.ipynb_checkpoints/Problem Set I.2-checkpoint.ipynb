{
 "cells": [
  {
   "cell_type": "markdown",
   "id": "76586310",
   "metadata": {},
   "source": [
    "# Problem Set I.2"
   ]
  },
  {
   "cell_type": "markdown",
   "id": "6bbfee75",
   "metadata": {},
   "source": [
    "## \\# 1"
   ]
  },
  {
   "cell_type": "markdown",
   "id": "aff2112e",
   "metadata": {},
   "source": [
    "$Ax=0$ and $Ay=0$"
   ]
  },
  {
   "cell_type": "markdown",
   "id": "dd0e06a8",
   "metadata": {},
   "source": [
    "$B=\\begin{bmatrix}\n",
    " x & y\n",
    "\\end{bmatrix}$ and $C=\\begin{bmatrix}\n",
    " 0 & 0\n",
    "\\end{bmatrix}$"
   ]
  },
  {
   "cell_type": "markdown",
   "id": "2dfbc009",
   "metadata": {},
   "source": [
    "$AB=C \\implies A\\begin{bmatrix}\n",
    " x & y\n",
    "\\end{bmatrix}=\\begin{bmatrix}\n",
    " 0 & 0\n",
    "\\end{bmatrix}$"
   ]
  },
  {
   "cell_type": "markdown",
   "id": "d966e971",
   "metadata": {},
   "source": [
    "## \\# 2"
   ]
  },
  {
   "cell_type": "markdown",
   "id": "ccfc39ef",
   "metadata": {},
   "source": [
    "$a=a_1,a_2,\\dots,a_m$ and $b=b_1,b_2,\\dots,b_p$"
   ]
  },
  {
   "cell_type": "markdown",
   "id": "8ca7aa2b",
   "metadata": {},
   "source": [
    "$$\n",
    "ab^T=\\begin{bmatrix}\n",
    " a_1 \\\\\n",
    " a_2 \\\\\n",
    " \\vdots \\\\\n",
    " a_m\n",
    "\\end{bmatrix}\n",
    "\\cdot\n",
    "\\begin{bmatrix}\n",
    " b_1 & b_2 & \\dots & b_p\n",
    "\\end{bmatrix}\n",
    "=\n",
    "\\begin{bmatrix}\n",
    " a_1 \\cdot b_1 & a_1 \\cdot b_2 & \\dots & a_1 \\cdot b_p \\\\\n",
    " a_2 \\cdot b_1 & a_2 \\cdot b_2 & \\dots & a_2 \\cdot b_p \\\\\n",
    " \\vdots        &     \\ddots    & \\dots &     \\vdots    \\\\\n",
    " a_m \\cdot b_1 & a_m \\cdot b_2 & \\dots & a_m \\cdot b_p \\\\\n",
    "\\end{bmatrix}_{m \\times p}\n",
    "$$"
   ]
  },
  {
   "cell_type": "markdown",
   "id": "e9d629b0",
   "metadata": {},
   "source": [
    "Row $i$, Col $j$ = $a_ib_j$"
   ]
  },
  {
   "cell_type": "markdown",
   "id": "3303b276",
   "metadata": {},
   "source": [
    "$$aa^T=\n",
    "\\begin{bmatrix}\n",
    " a_1    \\\\\n",
    " a_2    \\\\\n",
    " \\vdots \\\\\n",
    " a_m\n",
    "\\end{bmatrix}\n",
    "\\cdot\n",
    "\\begin{bmatrix}\n",
    " a_1 & a_2 & \\dots & a_m\n",
    "\\end{bmatrix}\n",
    "=$$"
   ]
  },
  {
   "cell_type": "markdown",
   "id": "c1feb6d4",
   "metadata": {},
   "source": [
    "$$\n",
    "\\begin{bmatrix}\n",
    " a_1^2 & a_1a_2  & \\dots & a_1a_m \\\\\n",
    " a_2a_1 & a_2^2  & \\dots & a_2a_m \\\\\n",
    " \\vdots & \\dots  & \\ddots & \\vdots \\\\\n",
    " a_ma_1 & a_ma_2 & \\dots & a_m^2 \n",
    "\\end{bmatrix}=S\n",
    "$$"
   ]
  },
  {
   "cell_type": "markdown",
   "id": "02edcb8a",
   "metadata": {},
   "source": [
    "Symmetric matrix $S^T=S$"
   ]
  },
  {
   "cell_type": "markdown",
   "id": "23582fbf",
   "metadata": {},
   "source": [
    "## \\# 3"
   ]
  },
  {
   "cell_type": "markdown",
   "id": "7ea1cc5a",
   "metadata": {},
   "source": [
    "a) Sum of rank1 matrices"
   ]
  },
  {
   "cell_type": "markdown",
   "id": "bb6fc312",
   "metadata": {},
   "source": [
    "$$AB=\n",
    "\\begin{bmatrix}\n",
    "  |  &       &  |  \\\\\n",
    " a_1 & \\dots & a_n \\\\\n",
    "  |  &       &  | \n",
    "\\end{bmatrix}\n",
    "\\cdot\n",
    "\\begin{bmatrix}\n",
    " - &  b_1^*  & - \\\\\n",
    "   & \\vdots  &   \\\\\n",
    " - &  b_n^*  & -\n",
    "\\end{bmatrix}\n",
    "=\n",
    "a_1b_1^*+ \\dots + a_nb_n^*\n",
    "=C\n",
    "$$"
   ]
  },
  {
   "cell_type": "markdown",
   "id": "a26f8554",
   "metadata": {},
   "source": [
    "b) $c_{ij}=\\sum_{k=1}^{n} a_{ik}b_{kj}$"
   ]
  },
  {
   "cell_type": "markdown",
   "id": "5c58e9e5",
   "metadata": {},
   "source": [
    "Example: $c_{45}= a_{41}b_{15} + a_{42}b_{25} + \\dots + a_{4n}b_{n5} = \\sum_{k=1}^{n} a_{4k}b_{k5}$"
   ]
  },
  {
   "cell_type": "markdown",
   "id": "555caf7c",
   "metadata": {},
   "source": [
    "## \\# 4"
   ]
  },
  {
   "cell_type": "markdown",
   "id": "25222ca5",
   "metadata": {},
   "source": [
    "$$AB=\n",
    "\\begin{bmatrix}\n",
    "  |  &       &  |  \\\\\n",
    " a_1 & \\dots & a_n \\\\\n",
    "  |  &       &  | \n",
    "\\end{bmatrix}\n",
    "\\cdot\n",
    "\\begin{bmatrix}\n",
    " b_1    \\\\\n",
    " \\vdots \\\\\n",
    " b_n\n",
    "\\end{bmatrix}\n",
    "=\n",
    "a_1b_1+ \\dots + a_nb_n\n",
    "=C\n",
    "$$"
   ]
  },
  {
   "cell_type": "markdown",
   "id": "ddb434b4",
   "metadata": {},
   "source": [
    "$c_{ij}=\\sum_{k=1}^{n} a_{ik}b_{k}$"
   ]
  },
  {
   "cell_type": "markdown",
   "id": "43d17cc1",
   "metadata": {},
   "source": [
    "## \\# 5"
   ]
  },
  {
   "cell_type": "markdown",
   "id": "b33253a0",
   "metadata": {},
   "source": [
    "$$A=\\begin{bmatrix}\n",
    " 1 & a \\\\\n",
    " 0 & 1\n",
    "\\end{bmatrix};\n",
    "B=\\begin{bmatrix}\n",
    " b_1 & b_2 \\\\\n",
    " b_3 & b_4\n",
    "\\end{bmatrix};\n",
    "C=\\begin{bmatrix}\n",
    " 1 & 0 \\\\\n",
    " c & 1\n",
    "\\end{bmatrix};\n",
    "$$"
   ]
  },
  {
   "cell_type": "markdown",
   "id": "35feff7b",
   "metadata": {},
   "source": [
    "$(AB)C=A(BC)$"
   ]
  },
  {
   "cell_type": "markdown",
   "id": "9136c4e9",
   "metadata": {},
   "source": [
    "$(AB)C$:"
   ]
  },
  {
   "cell_type": "markdown",
   "id": "7a280399",
   "metadata": {},
   "source": [
    "$$AB=\n",
    "\\begin{bmatrix}\n",
    " 1 & a \\\\\n",
    " 0 & 1\n",
    "\\end{bmatrix}\n",
    "\\cdot\n",
    "\\begin{bmatrix}\n",
    " b_1 & b_2 \\\\\n",
    " b_3 & b_4\n",
    "\\end{bmatrix}\n",
    "=\n",
    "$$"
   ]
  },
  {
   "cell_type": "markdown",
   "id": "2adb5428",
   "metadata": {},
   "source": [
    "$$=\n",
    "\\begin{bmatrix}\n",
    " b_1 + ab_3 & b_2 + ab_4 \\\\\n",
    " b_3        & b_4\n",
    "\\end{bmatrix}\n",
    "$$"
   ]
  },
  {
   "cell_type": "markdown",
   "id": "6d602741",
   "metadata": {},
   "source": [
    "$$\n",
    "(AB)C=\n",
    "\\begin{bmatrix}\n",
    " b_1 + ab_3 & b_2 + ab_4 \\\\\n",
    " b_3        & b_4\n",
    "\\end{bmatrix}\n",
    "\\cdot\n",
    "\\begin{bmatrix}\n",
    " 1 & 0 \\\\\n",
    " c & 1\n",
    "\\end{bmatrix}\n",
    "=\n",
    "$$"
   ]
  },
  {
   "cell_type": "markdown",
   "id": "3c6b9a58",
   "metadata": {},
   "source": [
    "$$=\n",
    "\\begin{bmatrix}\n",
    " b_1 + ab_3 + c(b_2 + ab_4) & b_2 + ab_4 \\\\\n",
    " b_3 + cb_4                 & b_4\n",
    "\\end{bmatrix}\n",
    "$$"
   ]
  },
  {
   "cell_type": "markdown",
   "id": "6ebf8a2c",
   "metadata": {},
   "source": [
    "$A(BC)$:"
   ]
  },
  {
   "cell_type": "markdown",
   "id": "378e0123",
   "metadata": {},
   "source": [
    "$$BC=\\begin{bmatrix}\n",
    " b_1 + b_2c & b_2 \\\\\n",
    " b_3 + b_4c & b_4\n",
    "\\end{bmatrix}\n",
    "$$"
   ]
  },
  {
   "cell_type": "markdown",
   "id": "8e118269",
   "metadata": {},
   "source": [
    "$$A(BC)=\\begin{bmatrix}\n",
    " 1 & a \\\\\n",
    " 0 & 1\n",
    "\\end{bmatrix}\n",
    "\\cdot\n",
    "\\begin{bmatrix}\n",
    " b_1 + b_2c & b_2 \\\\\n",
    " b_3 + b_4c & b_4\n",
    "\\end{bmatrix}\n",
    "=\n",
    "$$"
   ]
  },
  {
   "cell_type": "markdown",
   "id": "ca28561d",
   "metadata": {},
   "source": [
    "$$=\n",
    "\\begin{bmatrix}\n",
    " b_1 + b_2c + a(b_3 + b_4c) & b_2 + ab_4 \\\\\n",
    " b_3 + b_4c & b_4\n",
    "\\end{bmatrix}\n",
    "$$"
   ]
  },
  {
   "cell_type": "markdown",
   "id": "8db860af",
   "metadata": {},
   "source": [
    "$b_1 + ab_3 + c(b_2 + ab_4)=b_1 + b_2c + a(b_3 + b_4c)$\n",
    "\n",
    "$b_1 + ab_3 + cb_2 + cab_4=b_1 + cb_2 + ab_3 + acb_4$"
   ]
  },
  {
   "cell_type": "markdown",
   "id": "3e69f0e8",
   "metadata": {},
   "source": [
    "So, $(AB)C=A(BC)$"
   ]
  },
  {
   "cell_type": "markdown",
   "id": "6c3e471c",
   "metadata": {},
   "source": [
    "## \\# 6"
   ]
  },
  {
   "cell_type": "markdown",
   "id": "2a0c04cd",
   "metadata": {},
   "source": [
    "$$AB=AI=\n",
    "\\begin{bmatrix}\n",
    "  |  &  |  &  |  \\\\\n",
    " a_1 & a_2 & a_3 \\\\\n",
    "  |  &  |  &  |\n",
    "\\end{bmatrix}\n",
    "\\cdot\n",
    "\\begin{bmatrix}\n",
    "  1  &  0  &  0  \\\\\n",
    "  0  &  1  &  0  \\\\\n",
    "  0  &  0  &  1\n",
    "\\end{bmatrix}\n",
    "=\n",
    "\\begin{bmatrix}\n",
    "  |  \\\\\n",
    " a_1 \\\\\n",
    "  |\n",
    "\\end{bmatrix}\n",
    "\\cdot\n",
    "\\begin{bmatrix}\n",
    "  1  &  0  &  0\n",
    "\\end{bmatrix}\n",
    "+\n",
    "\\begin{bmatrix}\n",
    "  |  \\\\\n",
    " a_2 \\\\\n",
    "  |\n",
    "\\end{bmatrix}\n",
    "\\cdot\n",
    "\\begin{bmatrix}\n",
    "  0  &  1  &  0\n",
    "\\end{bmatrix}\n",
    "+\n",
    "\\begin{bmatrix}\n",
    "  |  \\\\\n",
    " a_3 \\\\\n",
    "  |\n",
    "\\end{bmatrix}\n",
    "\\cdot\n",
    "\\begin{bmatrix}\n",
    "  0  &  0  &  1\n",
    "\\end{bmatrix}\n",
    "=\n",
    "$$"
   ]
  },
  {
   "cell_type": "markdown",
   "id": "10b00b93",
   "metadata": {},
   "source": [
    "$$\n",
    "=\n",
    "\\begin{bmatrix}\n",
    "  |  &  |  &  |  \\\\\n",
    " a_1 &  0  &  0  \\\\\n",
    "  |  &  |  &  |\n",
    "\\end{bmatrix}\n",
    "+\n",
    "\\begin{bmatrix}\n",
    "  |  &  |  &  |  \\\\\n",
    "  0  & a_2 &  0  \\\\\n",
    "  |  &  |  &  |\n",
    "\\end{bmatrix}\n",
    "+\n",
    "\\begin{bmatrix}\n",
    "  |  &  |  &  |  \\\\\n",
    "  0  &  0  & a_3 \\\\\n",
    "  |  &  |  &  |\n",
    "\\end{bmatrix}\n",
    "=\n",
    "\\begin{bmatrix}\n",
    "  |  &  |  &  |  \\\\\n",
    " a_1 & a_2 & a_3 \\\\\n",
    "  |  &  |  &  |\n",
    "\\end{bmatrix}\n",
    "=\n",
    "A\n",
    "$$"
   ]
  },
  {
   "cell_type": "markdown",
   "id": "b3863f8e",
   "metadata": {},
   "source": [
    "$AI=A$"
   ]
  },
  {
   "cell_type": "markdown",
   "id": "5770c6ec",
   "metadata": {},
   "source": [
    "## \\# 7"
   ]
  },
  {
   "cell_type": "markdown",
   "id": "c8e2176d",
   "metadata": {},
   "source": [
    "$A=\\begin{bmatrix}\n",
    " 2 & 1 \\\\\n",
    " 1 & 1\n",
    "\\end{bmatrix}$,\n",
    "\n",
    "$rank(A)=2$;\n",
    "\n",
    "$B=\\begin{bmatrix}\n",
    " 0 & 1 \\\\\n",
    " 0 & 0\n",
    "\\end{bmatrix}$;\n",
    "\n",
    "$AB=\\begin{bmatrix}\n",
    " 0 & 2 \\\\\n",
    " 0 & 1\n",
    "\\end{bmatrix}$\n",
    "\n",
    "$rank(AB)=1$, $C(AB) < C(A)$"
   ]
  },
  {
   "cell_type": "markdown",
   "id": "4da66e11",
   "metadata": {},
   "source": [
    "## \\# 8"
   ]
  },
  {
   "cell_type": "markdown",
   "id": "2f90fd26",
   "metadata": {},
   "source": [
    "$c_{ij}=\\sum_{k=1}^{n} a_{ik}b_{kj}$"
   ]
  },
  {
   "cell_type": "markdown",
   "id": "8795dd54",
   "metadata": {},
   "source": [
    "$C=AB=(m \\times n)(n \\times p)$"
   ]
  },
  {
   "cell_type": "markdown",
   "id": "4e747037",
   "metadata": {},
   "source": [
    "Rows times cols"
   ]
  },
  {
   "cell_type": "markdown",
   "id": "e27bc995",
   "metadata": {},
   "source": [
    "1) For $i=1$ to $m$\n",
    "\n",
    "2) For $j=1$ to $p$\n",
    "\n",
    "3) For $k=1$ to $n$\n",
    "\n",
    "$C(i,j)=C(i,j)+A(i,k)*B(k,j)$"
   ]
  },
  {
   "cell_type": "markdown",
   "id": "c2ea24dd",
   "metadata": {},
   "source": [
    "Cols times rows"
   ]
  },
  {
   "cell_type": "markdown",
   "id": "b2d39d3b",
   "metadata": {},
   "source": [
    "1) For $i=1$ to $m$\n",
    "\n",
    "2) For $j=1$ to $p$\n",
    "\n",
    "3) For $k=1$ to $n$\n",
    "\n",
    "$C(i,j)=C(i,j)+A(k,i)*B(j,k)$"
   ]
  }
 ],
 "metadata": {
  "kernelspec": {
   "display_name": "Python 3",
   "language": "python",
   "name": "python3"
  },
  "language_info": {
   "codemirror_mode": {
    "name": "ipython",
    "version": 3
   },
   "file_extension": ".py",
   "mimetype": "text/x-python",
   "name": "python",
   "nbconvert_exporter": "python",
   "pygments_lexer": "ipython3",
   "version": "3.8.8"
  }
 },
 "nbformat": 4,
 "nbformat_minor": 5
}
