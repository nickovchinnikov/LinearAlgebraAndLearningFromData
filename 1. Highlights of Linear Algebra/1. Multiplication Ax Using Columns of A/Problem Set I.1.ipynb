{
 "cells": [
  {
   "cell_type": "markdown",
   "id": "2bf91609",
   "metadata": {},
   "source": [
    "# Problem Set I.1"
   ]
  },
  {
   "cell_type": "markdown",
   "id": "2b1500d1",
   "metadata": {},
   "source": [
    "## \\#1"
   ]
  },
  {
   "cell_type": "markdown",
   "id": "6644900b",
   "metadata": {},
   "source": [
    "Example: $Ax=0$ in $R^4$"
   ]
  },
  {
   "cell_type": "markdown",
   "id": "5e7dbf30",
   "metadata": {},
   "source": [
    "$$\n",
    "\\begin{bmatrix}\n",
    " 1 & 2 & 5 \\\\\n",
    " 1 & 2 & 5 \\\\\n",
    " 1 & 2 & 5 \\\\\n",
    " 1 & 2 & 5 \\\\\n",
    "\\end{bmatrix}\n",
    "\\cdot \n",
    "\\begin{bmatrix}\n",
    " 1 \\\\\n",
    " 2 \\\\\n",
    " -1\n",
    "\\end{bmatrix}\n",
    "=\n",
    "\\begin{bmatrix}\n",
    " 0 \\\\\n",
    " 0 \\\\\n",
    " 0 \\\\\n",
    " 0\n",
    "\\end{bmatrix}\n",
    "$$\n"
   ]
  },
  {
   "cell_type": "markdown",
   "id": "661ac5df",
   "metadata": {},
   "source": [
    "Dimensions: $(4 \\times 3)\\cdot(3 \\times 1)=(4 \\times 1)$"
   ]
  },
  {
   "cell_type": "markdown",
   "id": "ff9f37ed",
   "metadata": {},
   "source": [
    "$u+v-(u+v)=0$\n",
    "\n",
    "So, any $u,v$:"
   ]
  },
  {
   "cell_type": "markdown",
   "id": "8031e254",
   "metadata": {},
   "source": [
    "$$\n",
    "\\begin{bmatrix}\n",
    " u & v & u + v\n",
    "\\end{bmatrix}\n",
    "\\cdot\n",
    "\\begin{bmatrix}\n",
    " 1 \\\\\n",
    " 1 \\\\\n",
    " -1\n",
    "\\end{bmatrix}\n",
    "=\n",
    "0\n",
    "$$"
   ]
  },
  {
   "cell_type": "markdown",
   "id": "8ee7bb73",
   "metadata": {},
   "source": [
    "In the Example:\n",
    "$$\n",
    "\\begin{bmatrix}\n",
    " u & v & u + 2v\n",
    "\\end{bmatrix}\n",
    "\\cdot\n",
    "\\begin{bmatrix}\n",
    " 1 \\\\\n",
    " 2 \\\\\n",
    " -1\n",
    "\\end{bmatrix}\n",
    "=\n",
    "u + 2v - (u + 2v) = 0\n",
    "$$"
   ]
  },
  {
   "cell_type": "markdown",
   "id": "d94b8084",
   "metadata": {},
   "source": [
    "## \\#2"
   ]
  },
  {
   "cell_type": "markdown",
   "id": "57db1f24",
   "metadata": {},
   "source": [
    "Example of $Ax=Ay$"
   ]
  },
  {
   "cell_type": "markdown",
   "id": "b5daa25b",
   "metadata": {},
   "source": [
    "$$\n",
    "A=\\begin{bmatrix}\n",
    " u & v & u + v\n",
    "\\end{bmatrix}\n",
    "$$\n",
    "\n",
    "$$\n",
    "A\\cdot\\begin{bmatrix}\n",
    " 1 \\\\\n",
    " 1 \\\\\n",
    " -1\n",
    "\\end{bmatrix}\n",
    "=\n",
    "A\\cdot\\begin{bmatrix}\n",
    " -1 \\\\\n",
    " -1 \\\\\n",
    " 1\n",
    "\\end{bmatrix}\n",
    "\\implies\n",
    "u + v - (u+v) = -u - v + (u+v)\n",
    "=\n",
    "0\n",
    "$$"
   ]
  },
  {
   "cell_type": "markdown",
   "id": "1b3897c5",
   "metadata": {},
   "source": [
    "$Az = 0$"
   ]
  },
  {
   "cell_type": "markdown",
   "id": "60b51b2f",
   "metadata": {},
   "source": [
    "$$\n",
    "\\begin{bmatrix}\n",
    " u & v\n",
    "\\end{bmatrix}\n",
    "\\cdot\n",
    "z=0\n",
    "\\implies\n",
    "z_1 \\cdot u + z_2 \\cdot v = 0\n",
    "$$\n"
   ]
  },
  {
   "cell_type": "markdown",
   "id": "7b715d44",
   "metadata": {},
   "source": [
    "So: $z = 0$"
   ]
  },
  {
   "cell_type": "markdown",
   "id": "2656ef37",
   "metadata": {},
   "source": [
    "Or: $z = \\begin{bmatrix}\n",
    " -v \\\\\n",
    " u\n",
    "\\end{bmatrix}$\n"
   ]
  },
  {
   "cell_type": "markdown",
   "id": "b855d745",
   "metadata": {},
   "source": [
    "Or: $z = \\begin{bmatrix}\n",
    " v \\\\\n",
    " -u\n",
    "\\end{bmatrix}$"
   ]
  },
  {
   "cell_type": "markdown",
   "id": "53987349",
   "metadata": {},
   "source": [
    "## \\#2 "
   ]
  },
  {
   "cell_type": "markdown",
   "id": "028d8246",
   "metadata": {},
   "source": [
    "The vectors $a_1, a_2, \\dots, a_n$ in $R^m$ and $c_1 \\cdot a_1 + \\dots + c_n \\cdot a_n = 0$"
   ]
  },
  {
   "cell_type": "markdown",
   "id": "04c1024b",
   "metadata": {},
   "source": [
    "Matrix notation"
   ]
  },
  {
   "cell_type": "markdown",
   "id": "20a2ed1e",
   "metadata": {},
   "source": [
    "$$\n",
    "\\begin{bmatrix}\n",
    "  |  &  |  &        &  |  \\\\\n",
    " a_1 & a_2 & \\cdots & a_n \\\\\n",
    "  |  &  |  &        &  |  \\\\\n",
    "\\end{bmatrix}\n",
    "\\cdot\n",
    "\\begin{bmatrix}\n",
    " c_1 \\\\\n",
    " c_2 \\\\\n",
    " \\vdots \\\\\n",
    " c_n\n",
    "\\end{bmatrix}\n",
    "=\n",
    "0\n",
    "$$"
   ]
  },
  {
   "cell_type": "markdown",
   "id": "d8e20b4a",
   "metadata": {},
   "source": [
    "Or"
   ]
  },
  {
   "cell_type": "markdown",
   "id": "f8a740d5",
   "metadata": {},
   "source": [
    "$$\n",
    "\\begin{bmatrix}\n",
    " a_{11} & a_{12} & \\cdots & a_{1n} \\\\\n",
    " a_{21} & a_{22} & \\cdots & a_{2n} \\\\\n",
    " \\vdots & \\vdots & \\ddots & \\vdots\\\\\n",
    " a_{m1} & a_{m2} & \\cdots & a_{mn}\n",
    "\\end{bmatrix}\n",
    "\\cdot\n",
    "\\begin{bmatrix}\n",
    " c_1 \\\\\n",
    " c_2 \\\\\n",
    " \\vdots \\\\\n",
    " c_n\n",
    "\\end{bmatrix}\n",
    "=\n",
    "c_{1}\n",
    "\\cdot\n",
    "\\begin{bmatrix}\n",
    " a_{11} \\\\\n",
    " a_{12} \\\\\n",
    " \\vdots \\\\\n",
    " a_{1n}\n",
    "\\end{bmatrix}\n",
    "+\n",
    "\\cdots\n",
    "+\n",
    "c_{n}\n",
    "\\cdot\n",
    "\\begin{bmatrix}\n",
    " a_{m1} \\\\\n",
    " a_{m2} \\\\\n",
    " \\vdots \\\\\n",
    " a_{mn}\n",
    "\\end{bmatrix}\n",
    "=\n",
    "0\n",
    "$$"
   ]
  },
  {
   "cell_type": "markdown",
   "id": "158b5757",
   "metadata": {},
   "source": [
    "Sigma notation: \n",
    "$$\n",
    "\\sum_{i=1}^{m} \\sum_{j=1}^{n} a_{ij} * c_{j} = 0\n",
    "$$"
   ]
  },
  {
   "cell_type": "markdown",
   "id": "4fee54f5",
   "metadata": {},
   "source": [
    "## \\#4"
   ]
  },
  {
   "cell_type": "markdown",
   "id": "dc1ad698",
   "metadata": {},
   "source": []
  },
  {
   "cell_type": "markdown",
   "id": "e95d4fd1",
   "metadata": {},
   "source": []
  },
  {
   "cell_type": "markdown",
   "id": "d5d66070",
   "metadata": {},
   "source": []
  }
 ],
 "metadata": {
  "kernelspec": {
   "display_name": "Python 3",
   "language": "python",
   "name": "python3"
  },
  "language_info": {
   "codemirror_mode": {
    "name": "ipython",
    "version": 3
   },
   "file_extension": ".py",
   "mimetype": "text/x-python",
   "name": "python",
   "nbconvert_exporter": "python",
   "pygments_lexer": "ipython3",
   "version": "3.8.8"
  }
 },
 "nbformat": 4,
 "nbformat_minor": 5
}
