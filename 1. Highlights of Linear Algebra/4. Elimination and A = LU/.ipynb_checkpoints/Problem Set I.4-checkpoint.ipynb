{
 "cells": [
  {
   "cell_type": "markdown",
   "id": "ca5bc1ae",
   "metadata": {},
   "source": [
    "# Problem Set I.4"
   ]
  },
  {
   "cell_type": "markdown",
   "id": "361dfd8c",
   "metadata": {},
   "source": [
    "## 1. Factor matrices into A = LU"
   ]
  },
  {
   "cell_type": "markdown",
   "id": "f8957eaa",
   "metadata": {},
   "source": [
    "### Matrix 1\n",
    "\n",
    "$\n",
    "A=\\begin{bmatrix}\n",
    " 2 & 1 \\\\\n",
    " 6 & 7\n",
    "\\end{bmatrix}\n",
    "$;\n",
    "\n",
    "#### Step 1\n",
    "\n",
    "$\n",
    "l_{11}=1\n",
    "$\n",
    "\n",
    "$\n",
    "l_{21}=\\frac{a_{21}}{a_{11}}=\\frac{6}{2}=3\n",
    "$;\n",
    "\n",
    "$u_1=$ first row of A = $\\begin{bmatrix}2 & 1\\end{bmatrix}$\n",
    "\n",
    "So,\n",
    "\n",
    "$l_{1}=\\begin{bmatrix}\n",
    " 1 \\\\\n",
    " 3\n",
    "\\end{bmatrix}$\n",
    "\n",
    "And \n",
    "\n",
    "$l_{1} \\cdot u_{1}^{*} = \n",
    "\\begin{bmatrix}\n",
    " 1 \\\\\n",
    " 3\n",
    "\\end{bmatrix} \n",
    "\\cdot \n",
    "\\begin{bmatrix}\n",
    " 2 & 1\n",
    "\\end{bmatrix} =\n",
    "\\begin{bmatrix}\n",
    " 2 & 1 \\\\\n",
    " 6 & 3\n",
    "\\end{bmatrix}\n",
    "$"
   ]
  },
  {
   "cell_type": "markdown",
   "id": "fead101d",
   "metadata": {},
   "source": [
    "#### Step 2\n",
    "\n",
    "$$A - l_{1} \\cdot u_{1}^{*} = \n",
    "\\begin{bmatrix}\n",
    " 2 & 1 \\\\\n",
    " 6 & 7\n",
    "\\end{bmatrix}\n",
    "- \n",
    "\\begin{bmatrix}\n",
    " 2 & 1 \\\\\n",
    " 6 & 3\n",
    "\\end{bmatrix}\n",
    "=\n",
    "\\begin{bmatrix}\n",
    " 0 & 0 \\\\\n",
    " 0 & 4\n",
    "\\end{bmatrix}\n",
    "$$\n",
    "\n",
    "$A_{2}=\n",
    "\\begin{bmatrix}\n",
    "  4\n",
    "\\end{bmatrix}$\n"
   ]
  },
  {
   "cell_type": "markdown",
   "id": "2ca99285",
   "metadata": {},
   "source": [
    "So,\n",
    "\n",
    "$l_{2} = \\begin{bmatrix}\n",
    "  0 \\\\\n",
    "  1\n",
    "\\end{bmatrix}\n",
    "$ <- last col\n",
    "\n",
    "And\n",
    "\n",
    "$u_{2}=\\begin{bmatrix}\n",
    "  0 & 4\n",
    "\\end{bmatrix}$ <- result of elimination\n",
    "\n",
    "$\n",
    "l_{2} \\cdot u_{2}^* = \\begin{bmatrix}\n",
    "  0 & 0 \\\\\n",
    "  0 & 4\n",
    "\\end{bmatrix}\n",
    "$"
   ]
  },
  {
   "cell_type": "markdown",
   "id": "cfb3c524",
   "metadata": {},
   "source": [
    "#### Result\n",
    "\n",
    "$$A = l_{1} \\cdot u_{1}^{*} + l_{2} \\cdot u_{2}^{*} = \n",
    "\\begin{bmatrix}\n",
    " 2 & 1 \\\\\n",
    " 6 & 3\n",
    "\\end{bmatrix}\n",
    "+\n",
    "\\begin{bmatrix}\n",
    "  0 & 0 \\\\\n",
    "  0 & 4\n",
    "\\end{bmatrix}\n",
    "=\n",
    "\\begin{bmatrix}\n",
    " 2 & 1 \\\\\n",
    " 6 & 7\n",
    "\\end{bmatrix}\n",
    "$$"
   ]
  },
  {
   "cell_type": "markdown",
   "id": "84e2421c",
   "metadata": {},
   "source": [
    "And\n",
    "\n",
    "$$A=\n",
    "\\begin{bmatrix}\n",
    " l_{1} & l_{2}\n",
    "\\end{bmatrix}\n",
    "\\cdot\n",
    "\\begin{bmatrix}\n",
    " u_{1}^* \\\\\n",
    " u_{2}^*\n",
    "\\end{bmatrix}\n",
    "=\n",
    "\\begin{bmatrix}\n",
    " 1 & 0 \\\\\n",
    " 3 & 1\n",
    "\\end{bmatrix}\n",
    "\\cdot\n",
    "\\begin{bmatrix}\n",
    " 2 & 1 \\\\\n",
    " 0 & 4\n",
    "\\end{bmatrix}\n",
    "=\n",
    "\\begin{bmatrix}\n",
    " 2 & 1 \\\\\n",
    " 6 & 7\n",
    "\\end{bmatrix}\n",
    "$$"
   ]
  },
  {
   "cell_type": "markdown",
   "id": "99213585",
   "metadata": {},
   "source": [
    "### Matrix 2\n",
    "\n",
    "$A=\\begin{bmatrix}\n",
    " 1 & 1 & 1 \\\\\n",
    " 1 & 1 & 1 \\\\\n",
    " 1 & 1 & 1\n",
    "\\end{bmatrix}$\n",
    "\n",
    "#### Step 1:\n",
    "\n",
    "$\n",
    "l_{11}=1\n",
    "$,\n",
    "\n",
    "$\n",
    "l_{21}=\\frac{a_{21}}{a_{11}}=\\frac{1}{1}=1\n",
    "$,\n",
    "\n",
    "$\n",
    "l_{31}=\\frac{a_{31}}{a_{11}}=\\frac{1}{1}=1\n",
    "$;\n",
    "\n",
    "$u_1=$ first row of A = $\\begin{bmatrix}\n",
    " 1 & 1 & 1\n",
    "\\end{bmatrix}$\n",
    "\n",
    "So,\n",
    "\n",
    "$l_{1} \\cdot u_{1}^* = \\begin{bmatrix}\n",
    " 1 \\\\\n",
    " 1 \\\\\n",
    " 1\n",
    "\\end{bmatrix}\n",
    "\\cdot\n",
    "\\begin{bmatrix}\n",
    " 1 & 1 & 1\n",
    "\\end{bmatrix}\n",
    "$"
   ]
  },
  {
   "cell_type": "markdown",
   "id": "3322c668",
   "metadata": {},
   "source": [
    "#### Step 2\n",
    "\n",
    "$$\n",
    "A - l_{1} \\cdot u_{1}^{*} = \n",
    "\\begin{bmatrix}\n",
    " 1 & 1 & 1 \\\\\n",
    " 1 & 1 & 1 \\\\\n",
    " 1 & 1 & 1\n",
    "\\end{bmatrix}\n",
    "- \n",
    "\\begin{bmatrix}\n",
    " 1 & 1 & 1 \\\\\n",
    " 1 & 1 & 1 \\\\\n",
    " 1 & 1 & 1\n",
    "\\end{bmatrix}\n",
    "=\n",
    "\\begin{bmatrix}\n",
    " 0 & 0 & 0 \\\\\n",
    " 0 & 0 & 0 \\\\\n",
    " 0 & 0 & 0\n",
    "\\end{bmatrix} = A_{2}\n",
    "$$"
   ]
  },
  {
   "cell_type": "markdown",
   "id": "533fe3f3",
   "metadata": {},
   "source": [
    "So,\n",
    "\n",
    "$$l_{2} = \\begin{bmatrix}\n",
    " 0 \\\\\n",
    " 1 \\\\\n",
    " 1\n",
    "\\end{bmatrix}$$\n",
    "\n",
    "and\n",
    "\n",
    "$$l_{3} = \\begin{bmatrix}\n",
    " 0 \\\\\n",
    " 0 \\\\\n",
    " 1\n",
    "\\end{bmatrix}$$"
   ]
  },
  {
   "cell_type": "markdown",
   "id": "0231487d",
   "metadata": {},
   "source": [
    "#### Result\n",
    "\n",
    "$$\n",
    "A\n",
    "=\n",
    "LU\n",
    "=\n",
    "\\begin{bmatrix}\n",
    " 1 & 0 & 0 \\\\\n",
    " 1 & 1 & 0 \\\\\n",
    " 1 & 1 & 1\n",
    "\\end{bmatrix}\n",
    "\\cdot\n",
    "\\begin{bmatrix}\n",
    " 1 & 1 & 1 \\\\\n",
    " 0 & 0 & 0 \\\\\n",
    " 0 & 0 & 0\n",
    "\\end{bmatrix}\n",
    "$$"
   ]
  },
  {
   "cell_type": "markdown",
   "id": "933b5aa0",
   "metadata": {},
   "source": [
    "### Matrix 3\n",
    "\n",
    "$$\n",
    "A=\\begin{bmatrix}\n",
    "  2 & -1 &  0 \\\\\n",
    " -1 &  2 & -1 \\\\\n",
    "  0 & -1 &  2\n",
    "\\end{bmatrix}\n",
    "$$\n",
    "\n",
    "#### Step 1\n",
    "\n",
    "\n",
    "$\n",
    "l_{11}=1\n",
    "$,\n",
    "\n",
    "$\n",
    "l_{21}=\\frac{a_{21}}{a_{11}}=\\frac{-1}{2}\n",
    "$,\n",
    "\n",
    "$\n",
    "l_{31}=\\frac{a_{31}}{a_{11}}=\\frac{0}{2} = 0\n",
    "$;\n",
    "\n",
    "$u_1=$ first row of A = $\\begin{bmatrix} 2 & -1 & 0 \\end{bmatrix}$\n",
    "\n",
    "And \n",
    "\n",
    "$$l_{1} \\cdot u_{1}^{*} = \n",
    "\\begin{bmatrix}\n",
    " 1            \\\\\n",
    " \\frac{-1}{2} \\\\\n",
    " 0\n",
    "\\end{bmatrix} \n",
    "\\cdot \n",
    "\\begin{bmatrix}\n",
    " 2 & -1 & 0\n",
    "\\end{bmatrix} =\n",
    "\\begin{bmatrix}\n",
    "  2 &      -1     & 0 \\\\\n",
    " -1 & \\frac{1}{2} & 0 \\\\\n",
    "  0 &       0     & 0\n",
    "\\end{bmatrix}\n",
    "$$"
   ]
  },
  {
   "cell_type": "markdown",
   "id": "2318d511",
   "metadata": {},
   "source": [
    "#### Step 2\n",
    "\n",
    "$$\n",
    "A - l_{1} \\cdot u_{1}^{*} = \n",
    "\\begin{bmatrix}\n",
    "  2 & -1 &  0 \\\\\n",
    " -1 &  2 & -1 \\\\\n",
    "  0 & -1 &  2\n",
    "\\end{bmatrix}\n",
    "- \n",
    "\\begin{bmatrix}\n",
    "  2 &      -1     & 0 \\\\\n",
    " -1 & \\frac{1}{2} & 0 \\\\\n",
    "  0 &       0     & 0\n",
    "\\end{bmatrix}\n",
    "=\n",
    "\\begin{bmatrix}\n",
    " 0 &       0      &  0 \\\\\n",
    " 0 & \\frac{3}{2}  & -1 \\\\\n",
    " 0 &      -1      &  2\n",
    "\\end{bmatrix};\n",
    "A_{2}=\\begin{bmatrix}\n",
    " \\frac{3}{2}  & -1 \\\\\n",
    "      -1      &  2\n",
    "\\end{bmatrix}\n",
    "$$\n",
    "\n",
    "#### Rest of the data\n",
    "$$\n",
    "\\begin{bmatrix}\n",
    "    -  & u_1^*  & -  \\\\\n",
    "  \\begin{matrix}\n",
    "    0 \\\\\n",
    "    0\n",
    "  \\end{matrix}  & {A_2}\n",
    "\\end{bmatrix}\n",
    "=\n",
    "\\begin{bmatrix}\n",
    " 2 &      -1      &  0 \\\\\n",
    " 0 & \\frac{3}{2}  & -1 \\\\\n",
    " 0 &      -1      &  2\n",
    "\\end{bmatrix}\n",
    "$$"
   ]
  },
  {
   "cell_type": "markdown",
   "id": "b0bdc9c5",
   "metadata": {},
   "source": [
    "$$\n",
    "l_{21}=0,\n",
    "l_{22}=1,\n",
    "l_{23}=\\frac{a_{32}}{a_{22}}=\\frac{-1}{\\frac{3}{2}} = -\\frac{2}{3}$$\n",
    "\n",
    "$u_2=$ (second row of the rest) = $\\begin{bmatrix} 0 & \\frac{3}{2} & -1 \\end{bmatrix}$\n",
    "\n",
    "And \n",
    "\n",
    "$$l_{2} \\cdot u_{2}^{*} = \n",
    "\\begin{bmatrix}\n",
    " 0  \\\\\n",
    " 1 \\\\\n",
    " -\\frac{2}{3}\n",
    "\\end{bmatrix} \n",
    "\\cdot \n",
    "\\begin{bmatrix} 0 & \\frac{3}{2} & -1 \\end{bmatrix}\n",
    "=\n",
    "\\begin{bmatrix}\n",
    "  0 &        0     &        0     \\\\\n",
    "  0 &  \\frac{3}{2} &       -1     \\\\\n",
    "  0 &       -1     &   \\frac{2}{3}\n",
    "\\end{bmatrix}\n",
    "$$"
   ]
  },
  {
   "cell_type": "markdown",
   "id": "de1fbdd4",
   "metadata": {},
   "source": [
    "$$\n",
    "A - l_{1} \\cdot u_{1}^{*} - l_{2} \\cdot u_{2}^{*} = \n",
    "\\begin{bmatrix}\n",
    " 0 &       0      &  0 \\\\\n",
    " 0 & \\frac{3}{2}  & -1 \\\\\n",
    " 0 &      -1      &  2\n",
    "\\end{bmatrix}\n",
    "-\n",
    "\\begin{bmatrix}\n",
    "  0 &        0     &        0     \\\\\n",
    "  0 &  \\frac{3}{2} &       -1     \\\\\n",
    "  0 &       -1     &   \\frac{2}{3}\n",
    "\\end{bmatrix}\n",
    "=\n",
    "\\begin{bmatrix}\n",
    "  0 &        0     &        0     \\\\\n",
    "  0 &        0     &        0     \\\\\n",
    "  0 &        0     &   \\frac{4}{3}\n",
    "\\end{bmatrix}\n",
    "= A_3\n",
    "$$"
   ]
  },
  {
   "cell_type": "markdown",
   "id": "d79e20c9",
   "metadata": {},
   "source": [
    "$\n",
    "l_{31}=0\n",
    "$,\n",
    "\n",
    "$\n",
    "l_{32}=0\n",
    "$,\n",
    "\n",
    "$\n",
    "l_{33}=1\n",
    "$;\n",
    "\n",
    "$$u_3=\\begin{bmatrix}\n",
    "  0 \\\\        0     \\\\   \\frac{4}{3}\n",
    "\\end{bmatrix}$$"
   ]
  },
  {
   "cell_type": "markdown",
   "id": "fb562d93",
   "metadata": {},
   "source": [
    "#### Result\n",
    "\n",
    "$$\n",
    "A=LU=\n",
    "\\begin{bmatrix}\n",
    "        1     &        0     &   0 \\\\\n",
    " -\\frac{1}{2} &        1     &   0 \\\\\n",
    "        0 &     -\\frac{2}{3} &   1\n",
    "\\end{bmatrix}\n",
    "\\cdot\n",
    "\\begin{bmatrix}\n",
    "  2 &       -1     &        0 \\\\\n",
    "  0 &  \\frac{3}{2} &       -1 \\\\\n",
    "  0 &        0     &  \\frac{4}{3}\n",
    "\\end{bmatrix}\n",
    "=\n",
    "\\begin{bmatrix}\n",
    "  2 & -1 &  0 \\\\\n",
    " -1 &  2 & -1 \\\\\n",
    "  0 & -1 &  2\n",
    "\\end{bmatrix}\n",
    "$$"
   ]
  },
  {
   "cell_type": "markdown",
   "id": "958e50d1",
   "metadata": {},
   "source": [
    "## 2. Find a formula\n",
    "for the $a_{ij}$ to a rank 1 matrix \n",
    "\n",
    "Rank 1 matrix\n",
    "\n",
    "$$\n",
    "\\begin{bmatrix}\n",
    "  a_{11} &  a_{12} &  \\cdots & a_{1n} \\\\\n",
    "  a_{21} &  a_{22} &  \\cdots & a_{2n} \\\\\n",
    "  \\vdots &  \\cdots &  \\ddots & \\vdots \\\\\n",
    "  a_{m1} &  a_{m2} &  \\cdots & a_{mn}\n",
    "\\end{bmatrix}\n",
    "$$\n",
    "\n",
    "$$\n",
    "A = LU = l_{1} \\cdot u_{1}^* + \\cdots + l_{n} \\cdot u_{n}^* = \n",
    "\\begin{bmatrix}\n",
    "  l_1 & \\cdots & l_n\n",
    "\\end{bmatrix}\n",
    "\\cdot\n",
    "\\begin{bmatrix}\n",
    "  u_1^*  \\\\\n",
    "  \\vdots \\\\\n",
    "  u_n^*\n",
    "\\end{bmatrix}\n",
    "$$\n",
    "\n",
    "And\n",
    "\n",
    "$l_{11} = 1$, $l_{21} = \\frac{a_{21}}{a_{11}}$, $l_{31} = \\frac{a_{31}}{a_{11}}$, ... ,$l_{m1} = \\frac{a_{m1}}{a_{11}}$"
   ]
  },
  {
   "cell_type": "markdown",
   "id": "41a91bfe",
   "metadata": {},
   "source": [
    "$a_{ij}=\\frac{a_{j1} \\cdot u_{1j}}{a_{11}}$\n",
    "\n",
    "So, when $a_{11} = 0$ this formula breaks down!"
   ]
  },
  {
   "cell_type": "markdown",
   "id": "6ef95e3a",
   "metadata": {},
   "source": [
    "## 3. Find a matrix\n",
    "\n",
    "$EA=U$, what is $E$?"
   ]
  },
  {
   "cell_type": "markdown",
   "id": "f3744f04",
   "metadata": {},
   "source": [
    "$A=LU,L^{-1}A=U,E=L^{-1} \\implies E^{-1}=(L^{-1})^{-1}=L$"
   ]
  },
  {
   "cell_type": "markdown",
   "id": "e4117770",
   "metadata": {},
   "source": [
    "$$\n",
    "A=\\begin{bmatrix}\n",
    "  2 &  1 &  0 \\\\\n",
    "  0 &  4 &  2 \\\\\n",
    "  6 &  3 &  5\n",
    "\\end{bmatrix}\n",
    "$$"
   ]
  },
  {
   "cell_type": "markdown",
   "id": "b5a1f73a",
   "metadata": {},
   "source": [
    "### Step 1\n",
    "\n",
    "$l_{11}=1,l_{21}=\\frac{a_{21}}{a_{11}}=l_{21}=\\frac{0}{2}=0,l_{31}=\\frac{a_{31}}{a_{11}}=\\frac{6}{2}=3$\n",
    "\n",
    "$$l_1=\\begin{bmatrix}\n",
    "1 \\\\\n",
    "0 \\\\\n",
    "3\n",
    "\\end{bmatrix}$$"
   ]
  },
  {
   "cell_type": "markdown",
   "id": "ae673b74",
   "metadata": {},
   "source": [
    "$ u_1^* = $ first row of $A = \\begin{bmatrix} 2 & 1 & 0 \\end{bmatrix} $"
   ]
  },
  {
   "cell_type": "markdown",
   "id": "b6c22675",
   "metadata": {},
   "source": [
    "$$ l_{1} \\cdot u_1^* = \\begin{bmatrix}\n",
    "  1 \\\\\n",
    "  0 \\\\\n",
    "  3\n",
    "\\end{bmatrix} \\cdot \\begin{bmatrix} 2 & 1 & 0 \\end{bmatrix}\n",
    "=\n",
    "\\begin{bmatrix}\n",
    "  2 & 1 & 0 \\\\\n",
    "  0 & 0 & 0 \\\\\n",
    "  6 & 3 & 0\n",
    "\\end{bmatrix}\n",
    "$$"
   ]
  },
  {
   "cell_type": "markdown",
   "id": "2688eb60",
   "metadata": {},
   "source": [
    "$$A - l_{1} \\cdot u_1^* = \n",
    "\\begin{bmatrix}\n",
    "  2 &  1 &  0 \\\\\n",
    "  0 &  4 &  2 \\\\\n",
    "  6 &  3 &  5\n",
    "\\end{bmatrix}\n",
    "-\n",
    "\\begin{bmatrix}\n",
    "  2 & 1 & 0 \\\\\n",
    "  0 & 0 & 0 \\\\\n",
    "  6 & 3 & 0\n",
    "\\end{bmatrix}\n",
    "=\n",
    "\\begin{bmatrix}\n",
    "  0 & 0 & 0 \\\\\n",
    "  0 & 4 & 2 \\\\\n",
    "  0 & 0 & 5\n",
    "\\end{bmatrix}\n",
    "=\n",
    "\\begin{bmatrix}\n",
    " 4 & 2 \\\\\n",
    " 0 & 5\n",
    "\\end{bmatrix}\n",
    "=\n",
    "A_2\n",
    "$$"
   ]
  },
  {
   "cell_type": "markdown",
   "id": "c3c60476",
   "metadata": {},
   "source": [
    "#### Rest of the data\n",
    "\n",
    "$$\\begin{bmatrix}\n",
    "    -  & u_1^*  & -  \\\\\n",
    "  \\begin{matrix}\n",
    "    0 \\\\\n",
    "    0\n",
    "  \\end{matrix}  & {A_2}\n",
    "\\end{bmatrix}\n",
    "=\n",
    "\\begin{bmatrix}\n",
    " 2 &      1      &  0 \\\\\n",
    " 0 &      4      &  2 \\\\\n",
    " 0 &      0      &  5\n",
    "\\end{bmatrix}$$"
   ]
  },
  {
   "cell_type": "markdown",
   "id": "c47679d1",
   "metadata": {},
   "source": [
    "### Step 2\n",
    "\n"
   ]
  },
  {
   "cell_type": "markdown",
   "id": "9185ddad",
   "metadata": {},
   "source": [
    "$l_{12}=0,l_{22}=1,l_{23}=\\frac{a_{32}}{a_{22}}=\\frac{0}{4}=0$\n",
    "\n",
    "$$l_2=\\begin{bmatrix}\n",
    "0 \\\\\n",
    "1 \\\\\n",
    "0\n",
    "\\end{bmatrix}$$"
   ]
  },
  {
   "cell_type": "markdown",
   "id": "22fb329a",
   "metadata": {},
   "source": [
    "$u_2^{*} = $ second row of $A = \\begin{bmatrix} 0 & 4 & 2 \\end{bmatrix} $"
   ]
  },
  {
   "cell_type": "markdown",
   "id": "4e29e57d",
   "metadata": {},
   "source": [
    "$$l_2 \\cdot u_2^{*} = \\begin{bmatrix}\n",
    "  0 & 0 & 0 \\\\\n",
    "  0 & 4 & 2 \\\\\n",
    "  0 & 0 & 0\n",
    "\\end{bmatrix}$$"
   ]
  },
  {
   "cell_type": "markdown",
   "id": "25363be3",
   "metadata": {},
   "source": [
    "$$A - l_{1} \\cdot u_1^* - l_2 \\cdot u_2^{*} = \\begin{bmatrix}\n",
    "    -  & u_1^*  & -  \\\\\n",
    "  \\begin{matrix}\n",
    "    0 \\\\\n",
    "    0\n",
    "  \\end{matrix}  & {A_2}\n",
    "\\end{bmatrix}\n",
    "-\n",
    "\\begin{bmatrix}\n",
    "  0 & 0 & 0 \\\\\n",
    "  0 & 4 & 2 \\\\\n",
    "  0 & 0 & 0\n",
    "\\end{bmatrix}\n",
    "=\n",
    "\\begin{bmatrix}\n",
    "  0 & 0 & 0 \\\\\n",
    "  0 & 0 & 0 \\\\\n",
    "  0 & 0 & 5\n",
    "\\end{bmatrix}\n",
    "=\n",
    "\\begin{bmatrix}\n",
    "  5\n",
    "\\end{bmatrix}\n",
    "=\n",
    "A_3\n",
    "$$"
   ]
  },
  {
   "cell_type": "markdown",
   "id": "53fa4183",
   "metadata": {},
   "source": [
    "### Step 3\n",
    "\n",
    "$$l_3=\\begin{bmatrix}\n",
    "0 \\\\\n",
    "0 \\\\\n",
    "1\n",
    "\\end{bmatrix}$$\n",
    "\n",
    "$$u_3^*=\\begin{bmatrix}\n",
    "  0 & 0 & 5\n",
    "\\end{bmatrix}$$\n",
    "\n",
    "$$l_3 \\cdot u_3^* = \\begin{bmatrix}\n",
    "  0 & 0 & 0 \\\\\n",
    "  0 & 0 & 0 \\\\\n",
    "  0 & 0 & 5\n",
    "\\end{bmatrix}$$"
   ]
  },
  {
   "cell_type": "markdown",
   "id": "d61caaed",
   "metadata": {},
   "source": [
    "$ A = l_{1} \\cdot u_1^* + l_2 \\cdot u_2^{*} + l_3 \\cdot u_3^* = \\begin{bmatrix}\n",
    "  2 &  1 &  0 \\\\\n",
    "  0 &  4 &  2 \\\\\n",
    "  6 &  3 &  5\n",
    "\\end{bmatrix} $"
   ]
  },
  {
   "cell_type": "markdown",
   "id": "4f6df97d",
   "metadata": {},
   "source": [
    "$A=LU=\\begin{bmatrix}\n",
    "  1 & 0 & 0 \\\\\n",
    "  0 & 1 & 0 \\\\\n",
    "  3 & 0 & 1\n",
    "\\end{bmatrix} \\cdot \\begin{bmatrix}\n",
    "  2 & 1 & 0 \\\\\n",
    "  0 & 4 & 2 \\\\\n",
    "  0 & 0 & 5\n",
    "\\end{bmatrix}$"
   ]
  },
  {
   "cell_type": "markdown",
   "id": "b1ca43c5",
   "metadata": {},
   "source": [
    "$L^{-1} = \\begin{bmatrix}\n",
    "   1 & 0 & 0 \\\\\n",
    "   0 & 1 & 0 \\\\\n",
    "  -3 & 0 & 1\n",
    "\\end{bmatrix}$\n",
    "\n",
    "$L^{-1}A = \\begin{bmatrix}\n",
    "   1 & 0 & 0 \\\\\n",
    "   0 & 1 & 0 \\\\\n",
    "  -3 & 0 & 1\n",
    "\\end{bmatrix} \\cdot\n",
    "\\begin{bmatrix}\n",
    "  2 &  1 &  0 \\\\\n",
    "  0 &  4 &  2 \\\\\n",
    "  6 &  3 &  5\n",
    "\\end{bmatrix} =\n",
    "\\begin{bmatrix}\n",
    "  2 & 1 & 0 \\\\\n",
    "  0 & 4 & 2 \\\\\n",
    "  0 & 0 & 5\n",
    "\\end{bmatrix}$"
   ]
  },
  {
   "cell_type": "markdown",
   "id": "029227af",
   "metadata": {},
   "source": [
    "## 4. How the one-step inverses multiply to give L"
   ]
  },
  {
   "cell_type": "markdown",
   "id": "845947ea",
   "metadata": {},
   "source": [
    "$$A=\\begin{bmatrix}\n",
    "  1 & 0 & 0 \\\\\n",
    "  a & 1 & 0 \\\\\n",
    "  b & c & 1\n",
    "\\end{bmatrix}$$"
   ]
  },
  {
   "cell_type": "markdown",
   "id": "73246092",
   "metadata": {},
   "source": [
    "$$\n",
    "E_1=\\begin{bmatrix}\n",
    "   1 & 0 & 0 \\\\\n",
    "  -a & 1 & 0 \\\\\n",
    "  -b & 0 & 1\n",
    "\\end{bmatrix}\n",
    "$$"
   ]
  },
  {
   "cell_type": "markdown",
   "id": "f03b2762",
   "metadata": {},
   "source": [
    "$$\n",
    "E_2=\\begin{bmatrix}\n",
    "  1 &  0 & 0 \\\\\n",
    "  0 &  1 & 0 \\\\\n",
    "  0 & -c & 1\n",
    "\\end{bmatrix}\n",
    "$$"
   ]
  },
  {
   "cell_type": "markdown",
   "id": "8634416a",
   "metadata": {},
   "source": [
    "$$\n",
    "E = E_2E_1 =\n",
    "\\begin{bmatrix}\n",
    "  1 &  0 & 0 \\\\\n",
    "  0 &  1 & 0 \\\\\n",
    "  0 & -c & 1\n",
    "\\end{bmatrix}\\begin{bmatrix}\n",
    "   1 & 0 & 0 \\\\\n",
    "  -a & 1 & 0 \\\\\n",
    "  -b & 0 & 1\n",
    "\\end{bmatrix}\n",
    "=\n",
    "\\begin{bmatrix}\n",
    "     1   &  0 & 0 \\\\\n",
    "    -a   &  1 & 0 \\\\\n",
    "  ac - b & -c & 1\n",
    "\\end{bmatrix} = A^{-1}\n",
    "$$"
   ]
  },
  {
   "cell_type": "markdown",
   "id": "b6c4f55b",
   "metadata": {},
   "source": [
    "$$EA=I$$\n",
    "\n",
    "$$\\begin{bmatrix}\n",
    "     1   &  0 & 0 \\\\\n",
    "    -a   &  1 & 0 \\\\\n",
    "  ac - b & -c & 1\n",
    "\\end{bmatrix}\\begin{bmatrix}\n",
    "  1 & 0 & 0 \\\\\n",
    "  a & 1 & 0 \\\\\n",
    "  b & c & 1\n",
    "\\end{bmatrix}\n",
    "=\n",
    "\\begin{bmatrix}\n",
    "  1 & 0 & 0 \\\\\n",
    "  0 & 1 & 0 \\\\\n",
    "  0 & 0 & 1\n",
    "\\end{bmatrix}$$"
   ]
  },
  {
   "cell_type": "markdown",
   "id": "87ca1125",
   "metadata": {},
   "source": [
    "$$\\begin{vmatrix}\n",
    "   1 & 0 & 0 \\\\\n",
    "  -a & 1 & 0 \\\\\n",
    "  -b & 0 & 1\n",
    "\\end{vmatrix}\\begin{vmatrix}\n",
    "   1 & 0 & 0 \\\\\n",
    "   0 & 1 & 0 \\\\\n",
    "   0 & 0 & 1\n",
    "\\end{vmatrix}\n",
    "\\begin{matrix}\n",
    "   \\\\\n",
    "   row_{2} + a \\cdot row_{1} & \\implies & row_{2} \\\\\n",
    "   row_{3} + b \\cdot row_{1} & \\implies & row_{3}\n",
    "\\end{matrix}\n",
    "=\n",
    "\\begin{vmatrix}\n",
    "   1 & 0 & 0 \\\\\n",
    "   0 & 1 & 0 \\\\\n",
    "   0 & 0 & 1\n",
    "\\end{vmatrix}\\begin{vmatrix}\n",
    "   1 & 0 & 0 \\\\\n",
    "   a & 1 & 0 \\\\\n",
    "   b & 0 & 1\n",
    "\\end{vmatrix}=E_1^{-1}\n",
    "$$"
   ]
  },
  {
   "cell_type": "markdown",
   "id": "06e97808",
   "metadata": {},
   "source": [
    "$$\\begin{vmatrix}\n",
    "   1 &  0 & 0 \\\\\n",
    "   0 &  1 & 0 \\\\\n",
    "   0 & -c & 1\n",
    "\\end{vmatrix}\\begin{vmatrix}\n",
    "   1 & 0 & 0 \\\\\n",
    "   0 & 1 & 0 \\\\\n",
    "   0 & 0 & 1\n",
    "\\end{vmatrix}\n",
    "\\begin{matrix}\n",
    "   \\\\\n",
    "   \\\\\n",
    "   row_{3} + c \\cdot row_{2} & \\implies & row_{3}\n",
    "\\end{matrix}\n",
    "=\n",
    "\\begin{vmatrix}\n",
    "   1 & 0 & 0 \\\\\n",
    "   0 & 1 & 0 \\\\\n",
    "   0 & 0 & 1\n",
    "\\end{vmatrix}\\begin{vmatrix}\n",
    "   1 &  0 & 0 \\\\\n",
    "   0 &  1 & 0 \\\\\n",
    "   0 &  c & 1\n",
    "\\end{vmatrix}=E_2^{-1}\n",
    "$$"
   ]
  },
  {
   "cell_type": "markdown",
   "id": "76f50a29",
   "metadata": {},
   "source": [
    "$$\n",
    "E_1^{-1}E_2^{-1}=\\begin{bmatrix}\n",
    "   1 & 0 & 0 \\\\\n",
    "   a & 1 & 0 \\\\\n",
    "   b & 0 & 1\n",
    "\\end{bmatrix}\\begin{bmatrix}\n",
    "   1 &  0 & 0 \\\\\n",
    "   0 &  1 & 0 \\\\\n",
    "   0 &  c & 1\n",
    "\\end{bmatrix}\n",
    "=\n",
    "\\begin{bmatrix}\n",
    "   1 &  0 & 0 \\\\\n",
    "   a &  1 & 0 \\\\\n",
    "   b &  c & 1\n",
    "\\end{bmatrix}=A\n",
    "$$"
   ]
  },
  {
   "cell_type": "markdown",
   "id": "d76b37ea",
   "metadata": {},
   "source": [
    "## 5. When A=LU is not possible"
   ]
  },
  {
   "cell_type": "markdown",
   "id": "cddf1b33",
   "metadata": {},
   "source": [
    "#### 5.1. A=LU\n",
    "\n",
    "$$\n",
    "\\begin{bmatrix}\n",
    "   0 & 1 \\\\\n",
    "   2 & 3\n",
    "\\end{bmatrix}=\n",
    "\\begin{bmatrix}\n",
    "   1 & 0 \\\\\n",
    "   l & 1\n",
    "\\end{bmatrix}\n",
    "\\begin{bmatrix}\n",
    "   d & e \\\\\n",
    "   0 & f\n",
    "\\end{bmatrix}\n",
    "$$"
   ]
  },
  {
   "cell_type": "markdown",
   "id": "20fa2a16",
   "metadata": {},
   "source": [
    "$$\n",
    "\\begin{bmatrix}\n",
    "   1 & 0\n",
    "\\end{bmatrix}\n",
    "\\begin{bmatrix}\n",
    "   d \\\\\n",
    "   0\n",
    "\\end{bmatrix}=0,d=0\n",
    "$$"
   ]
  },
  {
   "cell_type": "markdown",
   "id": "94447bcb",
   "metadata": {},
   "source": [
    "#### impossible!\n",
    "$$\n",
    "\\begin{bmatrix}\n",
    "   l & 1\n",
    "\\end{bmatrix}\n",
    "\\begin{bmatrix}\n",
    "   d \\\\\n",
    "   0\n",
    "\\end{bmatrix}=2,l \\cdot d=2\n",
    "$$"
   ]
  },
  {
   "cell_type": "markdown",
   "id": "6ca3a188",
   "metadata": {},
   "source": [
    "#### 5.2. A = LU\n",
    "\n",
    "$$\n",
    "\\begin{bmatrix}\n",
    "   1 & 1 & 0 \\\\\n",
    "   1 & 1 & 2 \\\\\n",
    "   1 & 2 & 1\n",
    "\\end{bmatrix}=\n",
    "\\begin{bmatrix}\n",
    "   1 & 0 & 0 \\\\\n",
    "   l & 1 & 0 \\\\\n",
    "   m & n & 1\n",
    "\\end{bmatrix}\n",
    "\\begin{bmatrix}\n",
    "   d & e & g \\\\\n",
    "   0 & f & h \\\\\n",
    "   0 & 0 & i\n",
    "\\end{bmatrix}\n",
    "$$"
   ]
  },
  {
   "cell_type": "markdown",
   "id": "6cc62f73",
   "metadata": {},
   "source": [
    "$$\n",
    "LU = \\begin{bmatrix}\n",
    "   1 & 0 & 0 \\\\\n",
    "   1 & 1 & 0 \\\\\n",
    "   1 & n & 1\n",
    "\\end{bmatrix}\n",
    "\\begin{bmatrix}\n",
    "   1 & 1 & 0 \\\\\n",
    "   0 & 0 & 2 \\\\\n",
    "   0 & 0 & i\n",
    "\\end{bmatrix}\n",
    "$$"
   ]
  },
  {
   "cell_type": "markdown",
   "id": "a67f8c05",
   "metadata": {},
   "source": [
    "$\n",
    "a_{32}=2\n",
    "$, so\n",
    "$\n",
    "\\begin{bmatrix}\n",
    "   1 & n & 1\n",
    "\\end{bmatrix}\n",
    "\\begin{bmatrix}\n",
    "   1 \\\\\n",
    "   0 \\\\\n",
    "   0\n",
    "\\end{bmatrix}=1 + 0 \\cdot n + 0 \\neq 2\n",
    "$, impossible!"
   ]
  },
  {
   "cell_type": "markdown",
   "id": "d9046e5b",
   "metadata": {},
   "source": [
    "## 6.\n",
    "\n",
    "$$A=\\begin{bmatrix}\n",
    "   1 & c & 0 \\\\\n",
    "   2 & 4 & 1 \\\\\n",
    "   3 & 5 & 1\n",
    "\\end{bmatrix}$$"
   ]
  },
  {
   "cell_type": "markdown",
   "id": "fd1c39cc",
   "metadata": {},
   "source": [
    "When $c=2$, $a_{22}=0$, because $row_1$ and $row_2$ are dependent in this case"
   ]
  },
  {
   "cell_type": "markdown",
   "id": "64561c52",
   "metadata": {},
   "source": [
    "$$\\begin{bmatrix}\n",
    "   1 & 2 & 0 \\\\\n",
    "   2 & 4 & 1 \\\\\n",
    "   3 & 5 & 1\n",
    "\\end{bmatrix}\n",
    "\\begin{matrix}\n",
    "   \\\\\n",
    "   row_{2} - 2 \\cdot row_{1} & \\implies & row_{2} \\\\\n",
    "\\end{matrix}\n",
    "=\n",
    "\\begin{vmatrix}\n",
    "   1 & 2 & 0 \\\\\n",
    "   0 & 0 & 1 \\\\\n",
    "   3 & 5 & 1\n",
    "\\end{vmatrix}$$\n",
    "\n",
    "second pivot is zero"
   ]
  },
  {
   "cell_type": "markdown",
   "id": "74d8df88",
   "metadata": {},
   "source": [
    "When $c=1$"
   ]
  },
  {
   "cell_type": "markdown",
   "id": "a498aeda",
   "metadata": {},
   "source": [
    "$$\\begin{bmatrix}\n",
    "   1 & 1 & 0 \\\\\n",
    "   2 & 4 & 1 \\\\\n",
    "   3 & 5 & 1\n",
    "\\end{bmatrix}\n",
    "\\begin{matrix}\n",
    "   \\\\\n",
    "   row_{2} - 2 \\cdot row_{1} & \\implies & row_{2} \\\\\n",
    "   row_{3} - 3 \\cdot row_{1} & \\implies & row_{3}\n",
    "\\end{matrix}\n",
    "=\n",
    "\\begin{bmatrix}\n",
    "   1 & 1 & 0 \\\\\n",
    "   0 & 2 & 1 \\\\\n",
    "   0 & 2 & 1\n",
    "\\end{bmatrix}$$\n",
    "\n",
    "$row_2$ and $row_3$ are dependent in this case, so 3'rd pivot is zero!"
   ]
  },
  {
   "cell_type": "markdown",
   "id": "0159b2b3",
   "metadata": {},
   "source": [
    "## 7. L and U for symmetric matrix A"
   ]
  },
  {
   "cell_type": "markdown",
   "id": "7fff6aaa",
   "metadata": {},
   "source": [
    "$$A=\\begin{bmatrix}\n",
    "   a & a & a & a \\\\\n",
    "   a & b & b & b \\\\\n",
    "   a & b & c & c \\\\\n",
    "   a & b & c & d\n",
    "\\end{bmatrix}\n",
    "$$"
   ]
  },
  {
   "cell_type": "markdown",
   "id": "e494cfd4",
   "metadata": {},
   "source": [
    "$$A=\\begin{bmatrix}\n",
    "   a & a & a & a \\\\\n",
    "   a & b & b & b \\\\\n",
    "   a & b & c & c \\\\\n",
    "   a & b & c & d\n",
    "\\end{bmatrix}=LU=\n",
    "\\begin{bmatrix}\n",
    "   1 & 0 & 0 & 0 \\\\\n",
    "   1 & 1 & 0 & 0 \\\\\n",
    "   1 & 1 & 1 & 0 \\\\\n",
    "   1 & 1 & 1 & 1\n",
    "\\end{bmatrix}\\begin{bmatrix}\n",
    "   a & a   & a   & a \\\\\n",
    "   0 & b-a & b-a & b-a \\\\\n",
    "   0 & 0   & c-b & c-b \\\\\n",
    "   0 & 0   & 0   & d-c\n",
    "\\end{bmatrix}$$"
   ]
  },
  {
   "cell_type": "markdown",
   "id": "1578f454",
   "metadata": {},
   "source": [
    "## 8. Tridiagonal matrices"
   ]
  },
  {
   "cell_type": "markdown",
   "id": "47e9b21f",
   "metadata": {},
   "source": [
    "$$A=\\begin{bmatrix}\n",
    "   1 & 1 & 0 \\\\\n",
    "   1 & 2 & 1 \\\\\n",
    "   0 & 1 & 2\n",
    "\\end{bmatrix}\n",
    "$$"
   ]
  },
  {
   "cell_type": "markdown",
   "id": "6178de98",
   "metadata": {},
   "source": [
    "Symmetry produces\n",
    "\n",
    "$$A=LU=\\begin{bmatrix}\n",
    "   1 & 0 & 0 \\\\\n",
    "   1 & 1 & 0 \\\\\n",
    "   0 & 1 & 1\n",
    "\\end{bmatrix}\\begin{bmatrix}\n",
    "   1 & 1 & 0 \\\\\n",
    "   0 & 1 & 1 \\\\\n",
    "   0 & 0 & 1\n",
    "\\end{bmatrix}=LL^{T}\n",
    "$$"
   ]
  },
  {
   "cell_type": "markdown",
   "id": "5c452e5d",
   "metadata": {},
   "source": [
    "$$LDL^{T}=\\begin{bmatrix}\n",
    "   1 & 0 & 0 \\\\\n",
    "   1 & 1 & 0 \\\\\n",
    "   0 & 1 & 1\n",
    "\\end{bmatrix}\\begin{bmatrix}\n",
    "   1 & 0 & 0 \\\\\n",
    "   0 & 1 & 0 \\\\\n",
    "   0 & 0 & 1\n",
    "\\end{bmatrix}\\begin{bmatrix}\n",
    "   1 & 1 & 0 \\\\\n",
    "   0 & 1 & 1 \\\\\n",
    "   0 & 0 & 1\n",
    "\\end{bmatrix}$$"
   ]
  },
  {
   "cell_type": "markdown",
   "id": "ef0c5f7b",
   "metadata": {},
   "source": [
    "$$A=\\begin{bmatrix}\n",
    "   a & a   & 0 \\\\\n",
    "   a & a+b & b \\\\\n",
    "   0 & b   & b+c\n",
    "\\end{bmatrix}\n",
    "$$"
   ]
  },
  {
   "cell_type": "markdown",
   "id": "dc45ee36",
   "metadata": {},
   "source": [
    "$$LDL^{T}=\\begin{bmatrix}\n",
    "   1 & 0 & 0 \\\\\n",
    "   1 & 1 & 0 \\\\\n",
    "   0 & 1 & 1\n",
    "\\end{bmatrix}\\begin{bmatrix}\n",
    "   a & 0 & 0 \\\\\n",
    "   0 & b & 0 \\\\\n",
    "   0 & 0 & c\n",
    "\\end{bmatrix}\\begin{bmatrix}\n",
    "   1 & 1 & 0 \\\\\n",
    "   0 & 1 & 1 \\\\\n",
    "   0 & 0 & 1\n",
    "\\end{bmatrix}\n",
    "=\n",
    "\\begin{bmatrix}\n",
    "   a & 0 & 0 \\\\\n",
    "   a & b & 0 \\\\\n",
    "   0 & b & c\n",
    "\\end{bmatrix}\\begin{bmatrix}\n",
    "   1 & 1 & 0 \\\\\n",
    "   0 & 1 & 1 \\\\\n",
    "   0 & 0 & 1\n",
    "\\end{bmatrix}\n",
    "=\n",
    "\\begin{bmatrix}\n",
    "   a & a   & 0 \\\\\n",
    "   a & a+b & b \\\\\n",
    "   0 & b   & b+c\n",
    "\\end{bmatrix}$$"
   ]
  },
  {
   "cell_type": "markdown",
   "id": "000ed41e",
   "metadata": {},
   "source": [
    "## 9. Pivots"
   ]
  },
  {
   "cell_type": "markdown",
   "id": "9cc49ce8",
   "metadata": {},
   "source": [
    "$$A=\\begin{bmatrix}\n",
    "   5 &     &  \\\\\n",
    "     &  9  &  \\\\\n",
    "     &     & 3\n",
    "\\end{bmatrix}\n",
    "$$\n",
    "$$A_2=\\begin{bmatrix}\n",
    "   5 &  \\\\\n",
    "     & 9 \n",
    "\\end{bmatrix}$$"
   ]
  },
  {
   "cell_type": "markdown",
   "id": "0297cebb",
   "metadata": {},
   "source": [
    "## 10. Look at each of the square upper left submatrices"
   ]
  },
  {
   "cell_type": "markdown",
   "id": "121ddd32",
   "metadata": {},
   "source": [
    "$$A_k=L_kU_k=\\begin{bmatrix}\n",
    "   L_k &  0  \\\\\n",
    "   *   &  *\n",
    "\\end{bmatrix}\\begin{bmatrix}\n",
    "   U_k &  *  \\\\\n",
    "   0   &  *\n",
    "\\end{bmatrix}$$"
   ]
  },
  {
   "cell_type": "markdown",
   "id": "7e6d53f0",
   "metadata": {},
   "source": [
    "## 11. The first pivot is the largest number"
   ]
  },
  {
   "cell_type": "markdown",
   "id": "c3f7a448",
   "metadata": {},
   "source": [
    "$$A=\\begin{bmatrix}\n",
    "   1 & 2  \\\\\n",
    "   3 & [4]\n",
    "\\end{bmatrix}$$\n",
    "The largest $|a_{ij}|=4$, first pivot columns $\\begin{bmatrix}\n",
    "   2  \\\\\n",
    "   4\n",
    "\\end{bmatrix}$"
   ]
  },
  {
   "cell_type": "markdown",
   "id": "fe852766",
   "metadata": {},
   "source": [
    "$$\\frac{1}{|a_{ij}|} \\cdot col_j =\n",
    "\\frac{1}{4} \\cdot \\begin{bmatrix}\n",
    "   2  \\\\\n",
    "   4\n",
    "\\end{bmatrix} =\n",
    "\\begin{bmatrix}\n",
    "   1/2  \\\\\n",
    "   1\n",
    "\\end{bmatrix}$$"
   ]
  },
  {
   "cell_type": "markdown",
   "id": "e24d41f1",
   "metadata": {},
   "source": [
    "$$l_1u_1^*=\\begin{bmatrix}\n",
    "   1/2  \\\\\n",
    "   1\n",
    "\\end{bmatrix} \\cdot \\begin{bmatrix}\n",
    "   3  & 4\n",
    "\\end{bmatrix}=\\begin{bmatrix}\n",
    "   3/2 & 2  \\\\\n",
    "   3   & 4\n",
    "\\end{bmatrix}$$\n",
    "\n",
    "$$A-l_1u_1^*=\\begin{bmatrix}\n",
    "   -1/2 & 0  \\\\\n",
    "   0    & 0\n",
    "\\end{bmatrix}$$"
   ]
  },
  {
   "cell_type": "markdown",
   "id": "e7979bc7",
   "metadata": {},
   "source": [
    "$$\\begin{bmatrix}\n",
    "   1/2  \\\\\n",
    "   1\n",
    "\\end{bmatrix} \\cdot \\begin{bmatrix}\n",
    "   3  & 4\n",
    "\\end{bmatrix}+\\begin{bmatrix}\n",
    "   -1/2 & 0  \\\\\n",
    "   0    & 0\n",
    "\\end{bmatrix}=l_1u_1^*+l_2u_2^*=\\begin{bmatrix}\n",
    "   1/2 & 1  \\\\\n",
    "   1   & 0\n",
    "\\end{bmatrix}\\begin{bmatrix}\n",
    "   3      & 4  \\\\\n",
    "   -1/2   & 0\n",
    "\\end{bmatrix}$$"
   ]
  },
  {
   "cell_type": "markdown",
   "id": "3085c693",
   "metadata": {},
   "source": [
    "$$P_1AP_2=LU,P_1AP_2=\\begin{bmatrix}\n",
    "   1   & 0 \\\\\n",
    "   1/2 & 1\n",
    "\\end{bmatrix}\\begin{bmatrix}\n",
    "   4 & 3  \\\\\n",
    "   0 & -1/2\n",
    "\\end{bmatrix}=\\begin{bmatrix}\n",
    "   4 & 3 \\\\\n",
    "   2 & 1\n",
    "\\end{bmatrix}=A$$"
   ]
  },
  {
   "cell_type": "markdown",
   "id": "d35b7dbc",
   "metadata": {},
   "source": [
    "$$P_1AP_2=\\begin{bmatrix}\n",
    "   0 & 1 \\\\\n",
    "   1 & 0\n",
    "\\end{bmatrix}\\begin{bmatrix}\n",
    "   1 & 2  \\\\\n",
    "   3 & 4\n",
    "\\end{bmatrix}\\begin{bmatrix}\n",
    "   0 & 1 \\\\\n",
    "   1 & 0\n",
    "\\end{bmatrix}=\\begin{bmatrix}\n",
    "   4 & 3 \\\\\n",
    "   2 & 1\n",
    "\\end{bmatrix}$$"
   ]
  },
  {
   "cell_type": "markdown",
   "id": "cf86fbb5",
   "metadata": {},
   "source": [
    "$$P_1L=\\begin{bmatrix}\n",
    "   0 & 1 \\\\\n",
    "   1 & 0\n",
    "\\end{bmatrix}\\begin{bmatrix}\n",
    "   1   & 0  \\\\\n",
    "   1/2 & 1\n",
    "\\end{bmatrix}=\\begin{bmatrix}\n",
    "   1/2 & 1 \\\\\n",
    "   1   & 0\n",
    "\\end{bmatrix}$$"
   ]
  },
  {
   "cell_type": "markdown",
   "id": "1820c6d8",
   "metadata": {},
   "source": [
    "$$UP_2=\\begin{bmatrix}\n",
    "   4 &  3  \\\\\n",
    "   0 & -1/2\n",
    "\\end{bmatrix}\\begin{bmatrix}\n",
    "   0 & 1 \\\\\n",
    "   1 & 0\n",
    "\\end{bmatrix}=\\begin{bmatrix}\n",
    "    3   & 4 \\\\\n",
    "   -1/2 & 0\n",
    "\\end{bmatrix}$$"
   ]
  },
  {
   "cell_type": "markdown",
   "id": "02b17841",
   "metadata": {},
   "source": [
    "$$P_1LUP_2=\\begin{bmatrix}\n",
    "   1/2 & 1 \\\\\n",
    "   1   & 0\n",
    "\\end{bmatrix}\\begin{bmatrix}\n",
    "    3   & 4 \\\\\n",
    "   -1/2 & 0\n",
    "\\end{bmatrix}=\\begin{bmatrix}\n",
    "   1 & 2  \\\\\n",
    "   3 & 4\n",
    "\\end{bmatrix}=A$$"
   ]
  },
  {
   "cell_type": "code",
   "execution_count": null,
   "id": "8e297f63",
   "metadata": {},
   "outputs": [],
   "source": []
  }
 ],
 "metadata": {
  "kernelspec": {
   "display_name": "Python 3",
   "language": "python",
   "name": "python3"
  },
  "language_info": {
   "codemirror_mode": {
    "name": "ipython",
    "version": 3
   },
   "file_extension": ".py",
   "mimetype": "text/x-python",
   "name": "python",
   "nbconvert_exporter": "python",
   "pygments_lexer": "ipython3",
   "version": "3.8.8"
  }
 },
 "nbformat": 4,
 "nbformat_minor": 5
}
